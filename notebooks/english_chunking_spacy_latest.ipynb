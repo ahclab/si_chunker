{
  "nbformat": 4,
  "nbformat_minor": 0,
  "metadata": {
    "colab": {
      "provenance": [],
      "toc_visible": true
    },
    "kernelspec": {
      "name": "python3",
      "display_name": "Python 3"
    },
    "language_info": {
      "name": "python"
    }
  },
  "cells": [
    {
      "cell_type": "markdown",
      "source": [
        "# メモ\n",
        "- [x] スコアの測定\n",
        "- [x] オプション： merge_chunks\n",
        "- [x] 実験環境をローカルへ移す\n",
        "- [x] NAIST-SICへ適用した際のエラーを修正"
      ],
      "metadata": {
        "id": "9GzTlQTFJjX5"
      }
    },
    {
      "cell_type": "markdown",
      "source": [
        "# セットアップ"
      ],
      "metadata": {
        "id": "NXSJFpDlJ7ty"
      }
    },
    {
      "cell_type": "code",
      "execution_count": 1,
      "metadata": {
        "colab": {
          "base_uri": "https://localhost:8080/"
        },
        "id": "ZtCxjwPHJa0E",
        "outputId": "e8958485-06f9-463b-fbad-1275c78daed5"
      },
      "outputs": [
        {
          "output_type": "stream",
          "name": "stdout",
          "text": [
            "2023-11-30 08:51:45.154050: E tensorflow/compiler/xla/stream_executor/cuda/cuda_dnn.cc:9342] Unable to register cuDNN factory: Attempting to register factory for plugin cuDNN when one has already been registered\n",
            "2023-11-30 08:51:45.154114: E tensorflow/compiler/xla/stream_executor/cuda/cuda_fft.cc:609] Unable to register cuFFT factory: Attempting to register factory for plugin cuFFT when one has already been registered\n",
            "2023-11-30 08:51:45.154148: E tensorflow/compiler/xla/stream_executor/cuda/cuda_blas.cc:1518] Unable to register cuBLAS factory: Attempting to register factory for plugin cuBLAS when one has already been registered\n",
            "2023-11-30 08:51:45.163001: I tensorflow/core/platform/cpu_feature_guard.cc:182] This TensorFlow binary is optimized to use available CPU instructions in performance-critical operations.\n",
            "To enable the following instructions: AVX2 FMA, in other operations, rebuild TensorFlow with the appropriate compiler flags.\n",
            "2023-11-30 08:51:46.407338: W tensorflow/compiler/tf2tensorrt/utils/py_utils.cc:38] TF-TRT Warning: Could not find TensorRT\n",
            "Collecting en-core-web-md==3.6.0\n",
            "  Downloading https://github.com/explosion/spacy-models/releases/download/en_core_web_md-3.6.0/en_core_web_md-3.6.0-py3-none-any.whl (42.8 MB)\n",
            "\u001b[2K     \u001b[90m━━━━━━━━━━━━━━━━━━━━━━━━━━━━━━━━━━━━━━━━\u001b[0m \u001b[32m42.8/42.8 MB\u001b[0m \u001b[31m15.4 MB/s\u001b[0m eta \u001b[36m0:00:00\u001b[0m\n",
            "\u001b[?25hRequirement already satisfied: spacy<3.7.0,>=3.6.0 in /usr/local/lib/python3.10/dist-packages (from en-core-web-md==3.6.0) (3.6.1)\n",
            "Requirement already satisfied: spacy-legacy<3.1.0,>=3.0.11 in /usr/local/lib/python3.10/dist-packages (from spacy<3.7.0,>=3.6.0->en-core-web-md==3.6.0) (3.0.12)\n",
            "Requirement already satisfied: spacy-loggers<2.0.0,>=1.0.0 in /usr/local/lib/python3.10/dist-packages (from spacy<3.7.0,>=3.6.0->en-core-web-md==3.6.0) (1.0.5)\n",
            "Requirement already satisfied: murmurhash<1.1.0,>=0.28.0 in /usr/local/lib/python3.10/dist-packages (from spacy<3.7.0,>=3.6.0->en-core-web-md==3.6.0) (1.0.10)\n",
            "Requirement already satisfied: cymem<2.1.0,>=2.0.2 in /usr/local/lib/python3.10/dist-packages (from spacy<3.7.0,>=3.6.0->en-core-web-md==3.6.0) (2.0.8)\n",
            "Requirement already satisfied: preshed<3.1.0,>=3.0.2 in /usr/local/lib/python3.10/dist-packages (from spacy<3.7.0,>=3.6.0->en-core-web-md==3.6.0) (3.0.9)\n",
            "Requirement already satisfied: thinc<8.2.0,>=8.1.8 in /usr/local/lib/python3.10/dist-packages (from spacy<3.7.0,>=3.6.0->en-core-web-md==3.6.0) (8.1.12)\n",
            "Requirement already satisfied: wasabi<1.2.0,>=0.9.1 in /usr/local/lib/python3.10/dist-packages (from spacy<3.7.0,>=3.6.0->en-core-web-md==3.6.0) (1.1.2)\n",
            "Requirement already satisfied: srsly<3.0.0,>=2.4.3 in /usr/local/lib/python3.10/dist-packages (from spacy<3.7.0,>=3.6.0->en-core-web-md==3.6.0) (2.4.8)\n",
            "Requirement already satisfied: catalogue<2.1.0,>=2.0.6 in /usr/local/lib/python3.10/dist-packages (from spacy<3.7.0,>=3.6.0->en-core-web-md==3.6.0) (2.0.10)\n",
            "Requirement already satisfied: typer<0.10.0,>=0.3.0 in /usr/local/lib/python3.10/dist-packages (from spacy<3.7.0,>=3.6.0->en-core-web-md==3.6.0) (0.9.0)\n",
            "Requirement already satisfied: pathy>=0.10.0 in /usr/local/lib/python3.10/dist-packages (from spacy<3.7.0,>=3.6.0->en-core-web-md==3.6.0) (0.10.3)\n",
            "Requirement already satisfied: smart-open<7.0.0,>=5.2.1 in /usr/local/lib/python3.10/dist-packages (from spacy<3.7.0,>=3.6.0->en-core-web-md==3.6.0) (6.4.0)\n",
            "Requirement already satisfied: tqdm<5.0.0,>=4.38.0 in /usr/local/lib/python3.10/dist-packages (from spacy<3.7.0,>=3.6.0->en-core-web-md==3.6.0) (4.66.1)\n",
            "Requirement already satisfied: numpy>=1.15.0 in /usr/local/lib/python3.10/dist-packages (from spacy<3.7.0,>=3.6.0->en-core-web-md==3.6.0) (1.23.5)\n",
            "Requirement already satisfied: requests<3.0.0,>=2.13.0 in /usr/local/lib/python3.10/dist-packages (from spacy<3.7.0,>=3.6.0->en-core-web-md==3.6.0) (2.31.0)\n",
            "Requirement already satisfied: pydantic!=1.8,!=1.8.1,<3.0.0,>=1.7.4 in /usr/local/lib/python3.10/dist-packages (from spacy<3.7.0,>=3.6.0->en-core-web-md==3.6.0) (1.10.13)\n",
            "Requirement already satisfied: jinja2 in /usr/local/lib/python3.10/dist-packages (from spacy<3.7.0,>=3.6.0->en-core-web-md==3.6.0) (3.1.2)\n",
            "Requirement already satisfied: setuptools in /usr/local/lib/python3.10/dist-packages (from spacy<3.7.0,>=3.6.0->en-core-web-md==3.6.0) (67.7.2)\n",
            "Requirement already satisfied: packaging>=20.0 in /usr/local/lib/python3.10/dist-packages (from spacy<3.7.0,>=3.6.0->en-core-web-md==3.6.0) (23.2)\n",
            "Requirement already satisfied: langcodes<4.0.0,>=3.2.0 in /usr/local/lib/python3.10/dist-packages (from spacy<3.7.0,>=3.6.0->en-core-web-md==3.6.0) (3.3.0)\n",
            "Requirement already satisfied: typing-extensions>=4.2.0 in /usr/local/lib/python3.10/dist-packages (from pydantic!=1.8,!=1.8.1,<3.0.0,>=1.7.4->spacy<3.7.0,>=3.6.0->en-core-web-md==3.6.0) (4.5.0)\n",
            "Requirement already satisfied: charset-normalizer<4,>=2 in /usr/local/lib/python3.10/dist-packages (from requests<3.0.0,>=2.13.0->spacy<3.7.0,>=3.6.0->en-core-web-md==3.6.0) (3.3.2)\n",
            "Requirement already satisfied: idna<4,>=2.5 in /usr/local/lib/python3.10/dist-packages (from requests<3.0.0,>=2.13.0->spacy<3.7.0,>=3.6.0->en-core-web-md==3.6.0) (3.4)\n",
            "Requirement already satisfied: urllib3<3,>=1.21.1 in /usr/local/lib/python3.10/dist-packages (from requests<3.0.0,>=2.13.0->spacy<3.7.0,>=3.6.0->en-core-web-md==3.6.0) (2.0.7)\n",
            "Requirement already satisfied: certifi>=2017.4.17 in /usr/local/lib/python3.10/dist-packages (from requests<3.0.0,>=2.13.0->spacy<3.7.0,>=3.6.0->en-core-web-md==3.6.0) (2023.7.22)\n",
            "Requirement already satisfied: blis<0.8.0,>=0.7.8 in /usr/local/lib/python3.10/dist-packages (from thinc<8.2.0,>=8.1.8->spacy<3.7.0,>=3.6.0->en-core-web-md==3.6.0) (0.7.11)\n",
            "Requirement already satisfied: confection<1.0.0,>=0.0.1 in /usr/local/lib/python3.10/dist-packages (from thinc<8.2.0,>=8.1.8->spacy<3.7.0,>=3.6.0->en-core-web-md==3.6.0) (0.1.3)\n",
            "Requirement already satisfied: click<9.0.0,>=7.1.1 in /usr/local/lib/python3.10/dist-packages (from typer<0.10.0,>=0.3.0->spacy<3.7.0,>=3.6.0->en-core-web-md==3.6.0) (8.1.7)\n",
            "Requirement already satisfied: MarkupSafe>=2.0 in /usr/local/lib/python3.10/dist-packages (from jinja2->spacy<3.7.0,>=3.6.0->en-core-web-md==3.6.0) (2.1.3)\n",
            "Installing collected packages: en-core-web-md\n",
            "Successfully installed en-core-web-md-3.6.0\n",
            "\u001b[38;5;2m✔ Download and installation successful\u001b[0m\n",
            "You can now load the package via spacy.load('en_core_web_md')\n",
            "Collecting benepar\n",
            "  Downloading benepar-0.2.0.tar.gz (33 kB)\n",
            "  Preparing metadata (setup.py) ... \u001b[?25l\u001b[?25hdone\n",
            "Requirement already satisfied: nltk>=3.2 in /usr/local/lib/python3.10/dist-packages (from benepar) (3.8.1)\n",
            "Requirement already satisfied: spacy>=2.0.9 in /usr/local/lib/python3.10/dist-packages (from benepar) (3.6.1)\n",
            "Requirement already satisfied: torch>=1.6.0 in /usr/local/lib/python3.10/dist-packages (from benepar) (2.1.0+cu118)\n",
            "Collecting torch-struct>=0.5 (from benepar)\n",
            "  Downloading torch_struct-0.5-py3-none-any.whl (34 kB)\n",
            "Requirement already satisfied: tokenizers>=0.9.4 in /usr/local/lib/python3.10/dist-packages (from benepar) (0.15.0)\n",
            "Requirement already satisfied: transformers[tokenizers,torch]>=4.2.2 in /usr/local/lib/python3.10/dist-packages (from benepar) (4.35.2)\n",
            "Requirement already satisfied: protobuf in /usr/local/lib/python3.10/dist-packages (from benepar) (3.20.3)\n",
            "Collecting sentencepiece>=0.1.91 (from benepar)\n",
            "  Downloading sentencepiece-0.1.99-cp310-cp310-manylinux_2_17_x86_64.manylinux2014_x86_64.whl (1.3 MB)\n",
            "\u001b[2K     \u001b[90m━━━━━━━━━━━━━━━━━━━━━━━━━━━━━━━━━━━━━━━━\u001b[0m \u001b[32m1.3/1.3 MB\u001b[0m \u001b[31m11.0 MB/s\u001b[0m eta \u001b[36m0:00:00\u001b[0m\n",
            "\u001b[?25hRequirement already satisfied: click in /usr/local/lib/python3.10/dist-packages (from nltk>=3.2->benepar) (8.1.7)\n",
            "Requirement already satisfied: joblib in /usr/local/lib/python3.10/dist-packages (from nltk>=3.2->benepar) (1.3.2)\n",
            "Requirement already satisfied: regex>=2021.8.3 in /usr/local/lib/python3.10/dist-packages (from nltk>=3.2->benepar) (2023.6.3)\n",
            "Requirement already satisfied: tqdm in /usr/local/lib/python3.10/dist-packages (from nltk>=3.2->benepar) (4.66.1)\n",
            "Requirement already satisfied: spacy-legacy<3.1.0,>=3.0.11 in /usr/local/lib/python3.10/dist-packages (from spacy>=2.0.9->benepar) (3.0.12)\n",
            "Requirement already satisfied: spacy-loggers<2.0.0,>=1.0.0 in /usr/local/lib/python3.10/dist-packages (from spacy>=2.0.9->benepar) (1.0.5)\n",
            "Requirement already satisfied: murmurhash<1.1.0,>=0.28.0 in /usr/local/lib/python3.10/dist-packages (from spacy>=2.0.9->benepar) (1.0.10)\n",
            "Requirement already satisfied: cymem<2.1.0,>=2.0.2 in /usr/local/lib/python3.10/dist-packages (from spacy>=2.0.9->benepar) (2.0.8)\n",
            "Requirement already satisfied: preshed<3.1.0,>=3.0.2 in /usr/local/lib/python3.10/dist-packages (from spacy>=2.0.9->benepar) (3.0.9)\n",
            "Requirement already satisfied: thinc<8.2.0,>=8.1.8 in /usr/local/lib/python3.10/dist-packages (from spacy>=2.0.9->benepar) (8.1.12)\n",
            "Requirement already satisfied: wasabi<1.2.0,>=0.9.1 in /usr/local/lib/python3.10/dist-packages (from spacy>=2.0.9->benepar) (1.1.2)\n",
            "Requirement already satisfied: srsly<3.0.0,>=2.4.3 in /usr/local/lib/python3.10/dist-packages (from spacy>=2.0.9->benepar) (2.4.8)\n",
            "Requirement already satisfied: catalogue<2.1.0,>=2.0.6 in /usr/local/lib/python3.10/dist-packages (from spacy>=2.0.9->benepar) (2.0.10)\n",
            "Requirement already satisfied: typer<0.10.0,>=0.3.0 in /usr/local/lib/python3.10/dist-packages (from spacy>=2.0.9->benepar) (0.9.0)\n",
            "Requirement already satisfied: pathy>=0.10.0 in /usr/local/lib/python3.10/dist-packages (from spacy>=2.0.9->benepar) (0.10.3)\n",
            "Requirement already satisfied: smart-open<7.0.0,>=5.2.1 in /usr/local/lib/python3.10/dist-packages (from spacy>=2.0.9->benepar) (6.4.0)\n",
            "Requirement already satisfied: numpy>=1.15.0 in /usr/local/lib/python3.10/dist-packages (from spacy>=2.0.9->benepar) (1.23.5)\n",
            "Requirement already satisfied: requests<3.0.0,>=2.13.0 in /usr/local/lib/python3.10/dist-packages (from spacy>=2.0.9->benepar) (2.31.0)\n",
            "Requirement already satisfied: pydantic!=1.8,!=1.8.1,<3.0.0,>=1.7.4 in /usr/local/lib/python3.10/dist-packages (from spacy>=2.0.9->benepar) (1.10.13)\n",
            "Requirement already satisfied: jinja2 in /usr/local/lib/python3.10/dist-packages (from spacy>=2.0.9->benepar) (3.1.2)\n",
            "Requirement already satisfied: setuptools in /usr/local/lib/python3.10/dist-packages (from spacy>=2.0.9->benepar) (67.7.2)\n",
            "Requirement already satisfied: packaging>=20.0 in /usr/local/lib/python3.10/dist-packages (from spacy>=2.0.9->benepar) (23.2)\n",
            "Requirement already satisfied: langcodes<4.0.0,>=3.2.0 in /usr/local/lib/python3.10/dist-packages (from spacy>=2.0.9->benepar) (3.3.0)\n",
            "Requirement already satisfied: huggingface_hub<1.0,>=0.16.4 in /usr/local/lib/python3.10/dist-packages (from tokenizers>=0.9.4->benepar) (0.19.4)\n",
            "Requirement already satisfied: filelock in /usr/local/lib/python3.10/dist-packages (from torch>=1.6.0->benepar) (3.13.1)\n",
            "Requirement already satisfied: typing-extensions in /usr/local/lib/python3.10/dist-packages (from torch>=1.6.0->benepar) (4.5.0)\n",
            "Requirement already satisfied: sympy in /usr/local/lib/python3.10/dist-packages (from torch>=1.6.0->benepar) (1.12)\n",
            "Requirement already satisfied: networkx in /usr/local/lib/python3.10/dist-packages (from torch>=1.6.0->benepar) (3.2.1)\n",
            "Requirement already satisfied: fsspec in /usr/local/lib/python3.10/dist-packages (from torch>=1.6.0->benepar) (2023.6.0)\n",
            "Requirement already satisfied: triton==2.1.0 in /usr/local/lib/python3.10/dist-packages (from torch>=1.6.0->benepar) (2.1.0)\n",
            "Requirement already satisfied: pyyaml>=5.1 in /usr/local/lib/python3.10/dist-packages (from transformers[tokenizers,torch]>=4.2.2->benepar) (6.0.1)\n",
            "Requirement already satisfied: safetensors>=0.3.1 in /usr/local/lib/python3.10/dist-packages (from transformers[tokenizers,torch]>=4.2.2->benepar) (0.4.0)\n",
            "Collecting accelerate>=0.20.3 (from transformers[tokenizers,torch]>=4.2.2->benepar)\n",
            "  Downloading accelerate-0.24.1-py3-none-any.whl (261 kB)\n",
            "\u001b[2K     \u001b[90m━━━━━━━━━━━━━━━━━━━━━━━━━━━━━━━━━━━━━━━━\u001b[0m \u001b[32m261.4/261.4 kB\u001b[0m \u001b[31m15.0 MB/s\u001b[0m eta \u001b[36m0:00:00\u001b[0m\n",
            "\u001b[?25hRequirement already satisfied: psutil in /usr/local/lib/python3.10/dist-packages (from accelerate>=0.20.3->transformers[tokenizers,torch]>=4.2.2->benepar) (5.9.5)\n",
            "Requirement already satisfied: charset-normalizer<4,>=2 in /usr/local/lib/python3.10/dist-packages (from requests<3.0.0,>=2.13.0->spacy>=2.0.9->benepar) (3.3.2)\n",
            "Requirement already satisfied: idna<4,>=2.5 in /usr/local/lib/python3.10/dist-packages (from requests<3.0.0,>=2.13.0->spacy>=2.0.9->benepar) (3.4)\n",
            "Requirement already satisfied: urllib3<3,>=1.21.1 in /usr/local/lib/python3.10/dist-packages (from requests<3.0.0,>=2.13.0->spacy>=2.0.9->benepar) (2.0.7)\n",
            "Requirement already satisfied: certifi>=2017.4.17 in /usr/local/lib/python3.10/dist-packages (from requests<3.0.0,>=2.13.0->spacy>=2.0.9->benepar) (2023.7.22)\n",
            "Requirement already satisfied: blis<0.8.0,>=0.7.8 in /usr/local/lib/python3.10/dist-packages (from thinc<8.2.0,>=8.1.8->spacy>=2.0.9->benepar) (0.7.11)\n",
            "Requirement already satisfied: confection<1.0.0,>=0.0.1 in /usr/local/lib/python3.10/dist-packages (from thinc<8.2.0,>=8.1.8->spacy>=2.0.9->benepar) (0.1.3)\n",
            "Requirement already satisfied: MarkupSafe>=2.0 in /usr/local/lib/python3.10/dist-packages (from jinja2->spacy>=2.0.9->benepar) (2.1.3)\n",
            "Requirement already satisfied: mpmath>=0.19 in /usr/local/lib/python3.10/dist-packages (from sympy->torch>=1.6.0->benepar) (1.3.0)\n",
            "Building wheels for collected packages: benepar\n",
            "  Building wheel for benepar (setup.py) ... \u001b[?25l\u001b[?25hdone\n",
            "  Created wheel for benepar: filename=benepar-0.2.0-py3-none-any.whl size=37625 sha256=2e37e8362b8829a4ec46f0fb97cf778bdb8b9835a6a3ef7f3628d423f686fdf8\n",
            "  Stored in directory: /root/.cache/pip/wheels/8d/4d/c1/a5af726368d5dbaaaa0b2dd36ed39b9da8cec46279a49bd6db\n",
            "Successfully built benepar\n",
            "Installing collected packages: sentencepiece, torch-struct, accelerate, benepar\n",
            "Successfully installed accelerate-0.24.1 benepar-0.2.0 sentencepiece-0.1.99 torch-struct-0.5\n"
          ]
        },
        {
          "output_type": "stream",
          "name": "stderr",
          "text": [
            "[nltk_data] Downloading package benepar_en3 to /root/nltk_data...\n",
            "[nltk_data]   Unzipping models/benepar_en3.zip.\n",
            "You are using the default legacy behaviour of the <class 'transformers.models.t5.tokenization_t5.T5Tokenizer'>. This is expected, and simply means that the `legacy` (previous) behavior will be used so nothing changes for you. If you want to use the new behaviour, set `legacy=False`. This should only be set if you understand what it means, and thouroughly read the reason why this was added as explained in https://github.com/huggingface/transformers/pull/24565\n"
          ]
        },
        {
          "output_type": "execute_result",
          "data": {
            "text/plain": [
              "<benepar.integrations.spacy_plugin.BeneparComponent at 0x7a875df145e0>"
            ]
          },
          "metadata": {},
          "execution_count": 1
        }
      ],
      "source": [
        "!python -m spacy download en_core_web_md\n",
        "!pip install benepar\n",
        "import spacy\n",
        "import nltk\n",
        "import benepar\n",
        "benepar.download('benepar_en3')\n",
        "from nltk.tree import Tree\n",
        "import warnings\n",
        "warnings.simplefilter('ignore')\n",
        "import re\n",
        "\n",
        "# Load the English model for spaCy\n",
        "nlp = spacy.load(\"en_core_web_md\")\n",
        "nlp.add_pipe('benepar', config={'model': 'benepar_en3'})"
      ]
    },
    {
      "cell_type": "code",
      "source": [
        "# function for formatting output\n",
        "def format_chunked_list(splits):\n",
        "    splits_ = []\n",
        "    for e in splits:\n",
        "        if e != \"/ \" or (splits_ and splits_[-1] != \"/ \"):\n",
        "            splits_.append(e)\n",
        "    # return \"\".join(splits_)\n",
        "    return re.sub(r\"(?<! )/ \", \"\", \"\".join(splits_))\n",
        "\n",
        "# function for sentence parsing\n",
        "def parse_tree(sentence):\n",
        "    doc = nlp(sentence)\n",
        "    sent = list(doc.sents)[0]\n",
        "    tree_string = sent._.parse_string\n",
        "\n",
        "    token_space_mapping = {}\n",
        "    for i, token in enumerate(doc):\n",
        "        if token.text not in token_space_mapping.keys():\n",
        "            token_space_mapping[token.text] = [token.text_with_ws]\n",
        "        else:\n",
        "            token_space_mapping[token.text].append(token.text_with_ws)\n",
        "    return tree_string, token_space_mapping\n",
        "\n",
        "\n",
        "def replace_special_tags_in_tree(tree):\n",
        "    \"\"\"\n",
        "    Replace special tags in the tree with their original symbols.\n",
        "    \"\"\"\n",
        "    replacements = {\n",
        "        \"-LRB-\": \"(\", \"-RRB-\": \")\",\n",
        "        \"-LSB-\": \"[\", \"-RSB-\": \"]\",\n",
        "        \"-LCB-\": \"{\", \"-RCB-\": \"}\"\n",
        "    }\n",
        "\n",
        "    for pos in range(len(tree)):\n",
        "        if type(tree[pos]) is Tree:\n",
        "            replace_special_tags_in_tree(tree[pos])\n",
        "        elif tree[pos] in replacements:\n",
        "            tree[pos] = replacements[tree[pos]]\n",
        "    return tree"
      ],
      "metadata": {
        "id": "4b7xptiVLwAg"
      },
      "execution_count": 146,
      "outputs": []
    },
    {
      "cell_type": "markdown",
      "source": [
        "# 付録"
      ],
      "metadata": {
        "id": "dQwKKBXI017t"
      }
    },
    {
      "cell_type": "markdown",
      "source": [
        "## Ex: Syntax tree visualization"
      ],
      "metadata": {
        "id": "Mf_da8sZsS9S"
      }
    },
    {
      "cell_type": "code",
      "source": [
        "# virtual display\n",
        "!pip install pyvirtualdisplay\n",
        "!pip3 install svgling cairosvg"
      ],
      "metadata": {
        "id": "TOtMJWuG3fwt",
        "colab": {
          "base_uri": "https://localhost:8080/"
        },
        "outputId": "abe7ef04-5731-47fb-d35d-bafa59870367"
      },
      "execution_count": 4,
      "outputs": [
        {
          "output_type": "stream",
          "name": "stdout",
          "text": [
            "Collecting pyvirtualdisplay\n",
            "  Downloading PyVirtualDisplay-3.0-py3-none-any.whl (15 kB)\n",
            "Installing collected packages: pyvirtualdisplay\n",
            "Successfully installed pyvirtualdisplay-3.0\n",
            "Collecting svgling\n",
            "  Downloading svgling-0.4.0-py3-none-any.whl (23 kB)\n",
            "Collecting cairosvg\n",
            "  Downloading CairoSVG-2.7.1-py3-none-any.whl (43 kB)\n",
            "\u001b[2K     \u001b[90m━━━━━━━━━━━━━━━━━━━━━━━━━━━━━━━━━━━━━━━━\u001b[0m \u001b[32m43.2/43.2 kB\u001b[0m \u001b[31m2.7 MB/s\u001b[0m eta \u001b[36m0:00:00\u001b[0m\n",
            "\u001b[?25hCollecting svgwrite (from svgling)\n",
            "  Downloading svgwrite-1.4.3-py3-none-any.whl (67 kB)\n",
            "\u001b[2K     \u001b[90m━━━━━━━━━━━━━━━━━━━━━━━━━━━━━━━━━━━━━━━━\u001b[0m \u001b[32m67.1/67.1 kB\u001b[0m \u001b[31m3.7 MB/s\u001b[0m eta \u001b[36m0:00:00\u001b[0m\n",
            "\u001b[?25hCollecting cairocffi (from cairosvg)\n",
            "  Downloading cairocffi-1.6.1-py3-none-any.whl (75 kB)\n",
            "\u001b[2K     \u001b[90m━━━━━━━━━━━━━━━━━━━━━━━━━━━━━━━━━━━━━━━━\u001b[0m \u001b[32m75.1/75.1 kB\u001b[0m \u001b[31m10.5 MB/s\u001b[0m eta \u001b[36m0:00:00\u001b[0m\n",
            "\u001b[?25hCollecting cssselect2 (from cairosvg)\n",
            "  Downloading cssselect2-0.7.0-py3-none-any.whl (15 kB)\n",
            "Requirement already satisfied: defusedxml in /usr/local/lib/python3.10/dist-packages (from cairosvg) (0.7.1)\n",
            "Requirement already satisfied: pillow in /usr/local/lib/python3.10/dist-packages (from cairosvg) (9.4.0)\n",
            "Requirement already satisfied: tinycss2 in /usr/local/lib/python3.10/dist-packages (from cairosvg) (1.2.1)\n",
            "Requirement already satisfied: cffi>=1.1.0 in /usr/local/lib/python3.10/dist-packages (from cairocffi->cairosvg) (1.16.0)\n",
            "Requirement already satisfied: webencodings in /usr/local/lib/python3.10/dist-packages (from cssselect2->cairosvg) (0.5.1)\n",
            "Requirement already satisfied: pycparser in /usr/local/lib/python3.10/dist-packages (from cffi>=1.1.0->cairocffi->cairosvg) (2.21)\n",
            "Installing collected packages: svgwrite, svgling, cssselect2, cairocffi, cairosvg\n",
            "Successfully installed cairocffi-1.6.1 cairosvg-2.7.1 cssselect2-0.7.0 svgling-0.4.0 svgwrite-1.4.3\n"
          ]
        }
      ]
    },
    {
      "cell_type": "code",
      "source": [
        "import os\n",
        "from nltk.draw.tree import TreeView\n",
        "import svgling\n",
        "import cairosvg\n",
        "from IPython.display import Image,display_png\n",
        "\n",
        "def visualize_syntax_tree(sentence):\n",
        "    doc = nlp(sentence)\n",
        "    sent = list(doc.sents)[0]\n",
        "    tree_string = sent._.parse_string\n",
        "    print(tree_string)\n",
        "    parsed_tree = Tree.fromstring(tree_string)\n",
        "\n",
        "    # converts any nltk tree object to a svg\n",
        "    def tree2svg(t):\n",
        "        img = svgling.draw_tree(t)\n",
        "        svg_data = img.get_svg()\n",
        "        return svg_data\n",
        "\n",
        "    # convert tree to svg\n",
        "    sv = tree2svg(parsed_tree)\n",
        "    # write the svg as an image\n",
        "    cairosvg.svg2png(sv.tostring(), write_to='image.png')\n",
        "\n",
        "    display_png(Image('image.png'))"
      ],
      "metadata": {
        "id": "1l3hjPeeL_G3"
      },
      "execution_count": 145,
      "outputs": []
    },
    {
      "cell_type": "code",
      "source": [
        "visualize_syntax_tree(\"You interacted with the company that you work for or that you own.\")\n",
        "visualize_syntax_tree(\"He knows it's wrong to jump up and risk ruining all this beautiful tableware.\")\n",
        "visualize_syntax_tree(\"I'm a researcher, a scientist working with economists, financial economists, ethicists, neuroscientists, lawyers and others trying to understand what makes humans tick, and how can we address this issue of fraud in corporations and therefore contribute to the improvement of the world.\")"
      ],
      "metadata": {
        "colab": {
          "base_uri": "https://localhost:8080/",
          "height": 1000
        },
        "id": "CUANPBzocEz8",
        "outputId": "8181c979-c6a4-4dab-e297-b3bf2fede195"
      },
      "execution_count": 50,
      "outputs": [
        {
          "output_type": "stream",
          "name": "stdout",
          "text": [
            "(S (NP (PRP You)) (VP (VBD interacted) (PP (IN with) (NP (NP (DT the) (NN company)) (SBAR (SBAR (WHNP (WDT that)) (S (NP (PRP you)) (VP (VBP work) (PP (IN for))))) (CC or) (SBAR (WHNP (WDT that)) (S (NP (PRP you)) (VP (VBP own)))))))) (. .))\n"
          ]
        },
        {
          "output_type": "display_data",
          "data": {
            "image/png": "[encoded data removed]"
          },
          "metadata": {}
        },
        {
          "output_type": "stream",
          "name": "stdout",
          "text": [
            "(S (NP (PRP He)) (VP (VBZ knows) (SBAR (S (NP (NP (PRP it))) (VP (VBZ 's) (ADJP (JJ wrong)) (S (VP (TO to) (VP (VP (VB jump) (ADVP (RB up))) (CC and) (VP (VB risk) (S (VP (VBG ruining) (NP (PDT all) (DT this) (JJ beautiful) (NN tableware)))))))))))) (. .))\n"
          ]
        },
        {
          "output_type": "display_data",
          "data": {
            "image/png": "[encoded data removed]"
          },
          "metadata": {}
        },
        {
          "output_type": "stream",
          "name": "stdout",
          "text": [
            "(S (NP (PRP I)) (VP (VBP 'm) (NP (NP (NP (DT a) (NN researcher)) (, ,) (NP (NP (DT a) (NN scientist)) (VP (VBG working) (PP (IN with) (NP (NP (NNS economists)) (, ,) (NP (JJ financial) (NNS economists)) (, ,) (NP (NNS ethicists)) (, ,) (NP (NNS neuroscientists)) (, ,) (NP (NNS lawyers)) (CC and) (NP (NNS others))))))) (VP (VBG trying) (S (VP (TO to) (VP (VB understand) (SBAR (SBAR (WHNP (WP what)) (S (VP (VBZ makes) (S (NP (NNS humans)) (VP (VB tick)))))) (, ,) (CC and) (SBAR (WHADVP (WRB how)) (SQ (MD can) (NP (PRP we)) (VP (VP (VB address) (NP (NP (DT this) (NN issue)) (PP (IN of) (NP (NP (NN fraud)) (PP (IN in) (NP (NNS corporations))))))) (CC and) (ADVP (RB therefore)) (VP (VB contribute) (PP (IN to) (NP (NP (DT the) (NN improvement)) (PP (IN of) (NP (DT the) (NN world)))))))))))))))) (. .))\n"
          ]
        },
        {
          "output_type": "display_data",
          "data": {
            "image/png": "[encoded data removed]"
          },
          "metadata": {}
        }
      ]
    },
    {
      "cell_type": "code",
      "source": [
        "sentence = \"We are talking here about, oftentimes, very young individuals with spinal cord injuries, that in the prime of their life  20s, 30s, 40s  hit a wall and the wheelchair's the only option.\"\n",
        "sentence = re.sub(r\"\\s+\", \" \", sentence).rstrip()\n",
        "# print(split_sentence_rule1(sentence))\n",
        "visualize_syntax_tree(sentence)"
      ],
      "metadata": {
        "colab": {
          "base_uri": "https://localhost:8080/",
          "height": 420
        },
        "id": "Mfkp4xIW4_o0",
        "outputId": "f75cf17b-5f02-4da5-e0bb-31b70bfc69fa"
      },
      "execution_count": 53,
      "outputs": [
        {
          "output_type": "stream",
          "name": "stdout",
          "text": [
            "(S (NP (PRP We)) (VP (VBP are) (VP (VBG talking) (ADVP (RB here)) (PP (PP (IN about) (, ,) (ADVP (RB oftentimes)) (, ,) (NP (NP (ADJP (RB very) (JJ young)) (NNS individuals)) (PP (IN with) (NP (NML (JJ spinal) (NN cord)) (NNS injuries))))) (, ,) (SBAR (IN that) (S (S (PP (IN in) (NP (NP (DT the) (NN prime)) (PP (IN of) (NP (PRP$ their) (NN life))))) (S (NP (NNS 20s) (, ,) (NNS 30s) (CC ,) (CD 40s)) (VP (VBD hit) (NP (DT a) (NN wall))))) (CC and) (S (NP (DT the) (NN wheelchair)) (VP (VBZ 's) (NP (DT the) (JJ only) (NN option))))))))) (. .))\n"
          ]
        },
        {
          "output_type": "display_data",
          "data": {
            "image/png": "[encoded data removed]"
          },
          "metadata": {}
        }
      ]
    },
    {
      "cell_type": "code",
      "source": [
        "# sentence = \"This is [Albert] Gonzalez.\"\n",
        "# visualize_syntax_tree(sentence)\n",
        "# sentence = \"This is (Albert) Gonzalez.\"\n",
        "# visualize_syntax_tree(sentence)\n",
        "sentence = \"We're moving, we're all moving here, to a world where the forces of nature come closer together to technology, and magic and technology can come closer together.\"\n",
        "visualize_syntax_tree(sentence)\n"
      ],
      "metadata": {
        "colab": {
          "base_uri": "https://localhost:8080/",
          "height": 405
        },
        "id": "_1bs4CWEPYvH",
        "outputId": "00d82308-6396-4d83-fc76-1eac14bb770b"
      },
      "execution_count": 141,
      "outputs": [
        {
          "output_type": "stream",
          "name": "stdout",
          "text": [
            "(S (S (NP (PRP We)) (VP (VBP 're) (VP (VBG moving)))) (PRN (, ,) (S (NP (PRP we)) (VP (VBP 're) (DT all) (VP (VBG moving) (ADVP (RB here))))) (, ,)) (PP (IN to) (NP (NP (DT a) (NN world)) (SBAR (WHADVP (WRB where)) (S (S (NP (NP (DT the) (NNS forces)) (PP (IN of) (NP (NN nature)))) (VP (VBP come) (ADVP (RBR closer) (RB together)) (PP (IN to) (NP (NN technology))))) (, ,) (CC and) (S (NP (NN magic) (CC and) (NN technology)) (VP (MD can) (VP (VB come) (ADVP (RBR closer) (RB together))))))))) (. .))\n"
          ]
        },
        {
          "output_type": "display_data",
          "data": {
            "image/png": "[encoded data removed]"
          },
          "metadata": {}
        }
      ]
    },
    {
      "cell_type": "markdown",
      "source": [
        "## Ex: テキスト解析"
      ],
      "metadata": {
        "id": "-u3q3aZ81DFO"
      }
    },
    {
      "cell_type": "code",
      "source": [
        "sample_text = \"You know that in fact he is interesting.\"\n",
        "# テキストを解析\n",
        "doc = nlp(sample_text)\n",
        "for token in doc:\n",
        "    print(token.text, \"|\", token.lemma_, \"|\", token.pos_, \"|\", token.tag_, \"|\", token.dep_, \"|\", token.head, \"subject_tokens=\", [t for t in token.subtree])\n",
        "visualize_syntax_tree(sample_text)"
      ],
      "metadata": {
        "colab": {
          "base_uri": "https://localhost:8080/",
          "height": 551
        },
        "id": "77LoHyky1Hlw",
        "outputId": "97576a28-92bc-43f7-ebf1-843ee4fea1a4"
      },
      "execution_count": 7,
      "outputs": [
        {
          "output_type": "stream",
          "name": "stdout",
          "text": [
            "You | you | PRON | PRP | nsubj | know subject_tokens= [You]\n",
            "know | know | VERB | VBP | ROOT | know subject_tokens= [You, know, that, in, fact, he, is, interesting, .]\n",
            "that | that | SCONJ | IN | mark | is subject_tokens= [that]\n",
            "in | in | ADP | IN | prep | is subject_tokens= [in, fact]\n",
            "fact | fact | NOUN | NN | pobj | in subject_tokens= [fact]\n",
            "he | he | PRON | PRP | nsubj | is subject_tokens= [he]\n",
            "is | be | AUX | VBZ | ccomp | know subject_tokens= [that, in, fact, he, is, interesting]\n",
            "interesting | interesting | ADJ | JJ | acomp | is subject_tokens= [interesting]\n",
            ". | . | PUNCT | . | punct | know subject_tokens= [.]\n",
            "(S (NP (PRP You)) (VP (VBP know) (SBAR (IN that) (S (PP (IN in) (NP (NN fact))) (NP (PRP he)) (VP (VBZ is) (ADJP (JJ interesting)))))) (. .))\n"
          ]
        },
        {
          "output_type": "display_data",
          "data": {
            "image/png": "[encoded data removed]"
          },
          "metadata": {}
        }
      ]
    },
    {
      "cell_type": "markdown",
      "source": [
        "# ルール1: 節を導く接続詞、関係詞(主語を修飾する場合は除く)の前\n",
        "\n",
        "* (済)(11/15) 主語を修飾する場合の例外処理は未実装。dependencyを見ればいけるか\n",
        "  * (11/17) 「節を導く関係詞が文の主部の要素になっている場合」を例外とした\n",
        "* (11/20) 「ルール1・2は副詞が句・節を修飾している場合、副詞の左で切る」未対応\n",
        "* (11/30) [ad-hoc] \",\"がCC扱いで切れるエラーに対処\n",
        "  * if subtree.label() == \"CC\" and subtree[0] != \",\":"
      ],
      "metadata": {
        "id": "fGN2-ezWcWHl"
      }
    },
    {
      "cell_type": "markdown",
      "source": [
        "## Code and Examples"
      ],
      "metadata": {
        "id": "F0Mz5hZ146QV"
      }
    },
    {
      "cell_type": "code",
      "source": [
        "def split_sentence_rule1(sentence):\n",
        "    \"\"\"\n",
        "    Split a sentence based on the given rule:\n",
        "    Rule 1: Before a conjunction or a relative pronoun (except for one modifying a subject)\n",
        "    \"\"\"\n",
        "\n",
        "    def is_subject_np(subtree):\n",
        "        \"\"\"\n",
        "        Check if the subtree is a Noun Phrase acting as a subject in the sentence.\n",
        "        \"\"\"\n",
        "        if hasattr(subtree, \"parent\") and subtree.parent().label() == \"S\":\n",
        "            for sibling in subtree.parent():\n",
        "                if sibling != subtree and sibling.label() == \"VP\":\n",
        "                    return True\n",
        "        return False\n",
        "\n",
        "    parsed_tree_string, token_space_mapping = parse_tree(sentence)\n",
        "    parsed_tree = Tree.fromstring(parsed_tree_string)\n",
        "    parsed_tree = replace_special_tags_in_tree(parsed_tree)\n",
        "\n",
        "    def traverse_tree(tree):\n",
        "        splits = []\n",
        "        for subtree in tree:\n",
        "            if type(subtree) == Tree:\n",
        "                if subtree.label() == \"CC\" and subtree[0] != \",\":\n",
        "                    splits.append(\"/ \")\n",
        "                elif subtree.label() == \"SBAR\" and not is_subject_np(subtree.parent()):\n",
        "                    splits.append(\"/ \")\n",
        "                splits.extend(traverse_tree(subtree))\n",
        "            else:\n",
        "                token_text = token_space_mapping.get(subtree).pop(0)\n",
        "                splits.append(token_text)\n",
        "        return splits\n",
        "\n",
        "    def modifies_subject(tree):\n",
        "        \"\"\"\n",
        "        Check if the given tree modifies a subject.\n",
        "        \"\"\"\n",
        "        if tree.parent() is None:\n",
        "            return False\n",
        "        parent_label = tree.parent().label()\n",
        "        if parent_label in [\"S\"]:\n",
        "            return True\n",
        "        return False\n",
        "\n",
        "    # Enhance the tree with parent pointers.\n",
        "    for subtree in parsed_tree.subtrees():\n",
        "        for child in subtree:\n",
        "            if type(child) == Tree:\n",
        "                child.set_label(child.label())\n",
        "                child.parent = lambda s=subtree: s\n",
        "\n",
        "    return format_chunked_list(traverse_tree(parsed_tree))"
      ],
      "metadata": {
        "id": "cYiW4HGtVVWc"
      },
      "execution_count": 123,
      "outputs": []
    },
    {
      "cell_type": "code",
      "source": [
        "print(split_sentence_rule1(\"Self-interest isn't a narrowly defined concept just for your immediate utility.\"))\n",
        "print(split_sentence_rule1(\"You interacted with the company that you work for or that you own.\"))\n",
        "print(split_sentence_rule1(\"These frauds cost the shareholders of these companies, and therefore society, on the order of 380 billion dollars per year.\"))\n",
        "print(split_sentence_rule1(\"He knows it's wrong to jump up and risk ruining all this beautiful tableware.\"))\n",
        "print(split_sentence_rule1(\"The game that I developed three years ago is fun.\"))\n",
        "print(split_sentence_rule1(\"I bought the game that I developed three years ago.\"))\n",
        "print(split_sentence_rule1(\"I like Hoge, but I don't like Huga because it isn't tasty.\"))\n",
        "print(split_sentence_rule1(\"You know that actually he is interesting.\"))\n",
        "print(split_sentence_rule1(\"I did'nt go out because it was raining.\"))\n",
        "\n",
        "sentence = \"We are talking here about, oftentimes, very young individuals with spinal cord injuries, that in the prime of their life  20s, 30s, 40s  hit a wall and the wheelchair's the only option.\"\n",
        "sentence = re.sub(r\"\\s+\", \" \", sentence).rstrip()\n",
        "print(split_sentence_rule1(sentence))"
      ],
      "metadata": {
        "colab": {
          "base_uri": "https://localhost:8080/"
        },
        "id": "frUu3uqKsrCo",
        "outputId": "fe7d1052-d826-4152-ebc5-ba708b9a40a0"
      },
      "execution_count": 124,
      "outputs": [
        {
          "output_type": "stream",
          "name": "stdout",
          "text": [
            "Self-interest isn't a narrowly defined concept just for your immediate utility.\n",
            "You interacted with the company / that you work for / or / that you own.\n",
            "These frauds cost the shareholders of these companies, / and therefore society, on the order of 380 billion dollars per year.\n",
            "He knows / it's wrong to jump up / and risk ruining all this beautiful tableware.\n",
            "The game that I developed three years ago is fun.\n",
            "I bought the game / that I developed three years ago.\n",
            "I like Hoge, / but I don't like Huga / because it isn't tasty.\n",
            "You know / that actually he is interesting.\n",
            "I did'nt go out / because it was raining.\n",
            "We are talking here about, oftentimes, very young individuals with spinal cord injuries, / that in the prime of their life 20s, 30s, 40s hit a wall / and the wheelchair's the only option.\n"
          ]
        }
      ]
    },
    {
      "cell_type": "markdown",
      "source": [
        "# ルール2: to不定詞、前置詞、動名詞の後に3語以上が続く場合\n",
        "\n",
        "* 左から右へ辿りながらルールを適用\n",
        "* (済)(11/15) ピリオドも1トークンに含めてしまっているのは要修正\n",
        "  * (11/17) ピリオドはトークンに含めないように修正した\n",
        "* (11/20) 「ルール1・2は副詞が句・節を修飾している場合、副詞の左で切る」未対応"
      ],
      "metadata": {
        "id": "nbtQ5I9TccY7"
      }
    },
    {
      "cell_type": "markdown",
      "source": [
        "## Code and Examples"
      ],
      "metadata": {
        "id": "TH_Ld3ig5E5R"
      }
    },
    {
      "cell_type": "code",
      "source": [
        "def split_sentence_rule2(sentence):\n",
        "    \"\"\"\n",
        "    Split a sentence based on the given rule:\n",
        "    Rule 2: Before a to-infinitive, a preposition, or a gerund followed by three or more words\n",
        "    \"\"\"\n",
        "\n",
        "    def word_to_split(word):\n",
        "        # preposition\n",
        "        if word.pos_ == \"ADP\":\n",
        "            return True\n",
        "        # to-infinitive\n",
        "        if word.pos_ == \"PART\" and word.text == \"to\":\n",
        "            return True\n",
        "        # gerund\n",
        "        if word.tag_ == \"VBG\" and \"ing\" in word.text:\n",
        "            return True\n",
        "        return False\n",
        "\n",
        "    doc = nlp(sentence)\n",
        "    words = list(doc)\n",
        "\n",
        "    splits = []\n",
        "    count = 0\n",
        "\n",
        "    for i in range(len(words) -1, -1, -1):\n",
        "        word = words[i]\n",
        "        if word.text == \".\":\n",
        "            count -= 1\n",
        "        count += 1\n",
        "        if word_to_split(word) and count > 3:\n",
        "            splits.insert(0, word.text_with_ws)\n",
        "            splits.insert(0, \"/ \")\n",
        "            count = 0\n",
        "        else:\n",
        "            splits.insert(0, word.text_with_ws)\n",
        "\n",
        "    return format_chunked_list(splits)"
      ],
      "metadata": {
        "id": "kTeKvxJLB4Zx"
      },
      "execution_count": 39,
      "outputs": []
    },
    {
      "cell_type": "code",
      "source": [
        "print(split_sentence_rule2(\"I went to a restaurant to have a fancy dinner.\"))\n",
        "print(split_sentence_rule2(\"I’ve just finished cleaning up my room.\"))\n",
        "print(split_sentence_rule2(\"We hope to improve bilateral relations with your company.\"))\n",
        "print(split_sentence_rule2(\"That's not me who's claiming that, that's the president of the American Finance Association who stated that in his presidential address.\"))\n",
        "print(split_sentence_rule2(\"I am interested in taking a Spanish class.\"))\n",
        "print(split_sentence_rule2(\"I am interested in taking classes.\"))\n",
        "print(split_sentence_rule2(\"Self-interest isn't a narrowly defined concept just for your immediate utility.\"))"
      ],
      "metadata": {
        "id": "IVB0mdLq2Tid"
      },
      "execution_count": null,
      "outputs": []
    },
    {
      "cell_type": "markdown",
      "source": [
        "# ルール3: 主語が3語以上で長い場合"
      ],
      "metadata": {
        "id": "gtoDRPIT3xeU"
      }
    },
    {
      "cell_type": "markdown",
      "source": [
        "## Code and Examples"
      ],
      "metadata": {
        "id": "nFBkCtLYWL42"
      }
    },
    {
      "cell_type": "code",
      "source": [
        "def split_sentence_rule3(sentence):\n",
        "    \"\"\"\n",
        "    Split a sentence based on the given rule:\n",
        "    Rule 3: After a long subject (i.e., three or more words)\n",
        "    \"\"\"\n",
        "    doc = nlp(sentence)\n",
        "    splits = []\n",
        "    current_split = 0\n",
        "\n",
        "    for token in doc:\n",
        "        if \"nsubj\" in token.dep_:\n",
        "            subject_tokens = [t for t in token.subtree]\n",
        "            if len(subject_tokens) >= 3 and token.text_with_ws != token.text:\n",
        "                split_index = subject_tokens[-1].i + 1\n",
        "                splits.append(doc[current_split:split_index].text)\n",
        "                current_split = split_index\n",
        "    splits.append(doc[current_split:].text)\n",
        "    return \" / \".join(splits)"
      ],
      "metadata": {
        "id": "sIBLgKmHN-y_"
      },
      "execution_count": 82,
      "outputs": []
    },
    {
      "cell_type": "code",
      "source": [
        "print(split_sentence_rule3(\"The quick brown fox that jumps over the lazy dog is very agile.\"))\n",
        "print(split_sentence_rule3(\"The quick brown fox that jumps over the lazy dog is very agile, and he and his brother often plays in the fields.\"))\n",
        "print(split_sentence_rule3(\"The car industry's secrets aren't quite so secret anymore.\"))\n",
        "print(split_sentence_rule3(\"I have a black pen.\"))\n",
        "print(split_sentence_rule3(\"The black pen is mine.\"))\n",
        "print(split_sentence_rule3(\"Self-interest isn't a narrowly defined concept just for your immediate utility.\"))"
      ],
      "metadata": {
        "colab": {
          "base_uri": "https://localhost:8080/"
        },
        "id": "DQ6FNvMoWZ5z",
        "outputId": "fd9f726e-ab9b-4ccd-d65f-77dfa485767a"
      },
      "execution_count": 83,
      "outputs": [
        {
          "output_type": "stream",
          "name": "stdout",
          "text": [
            "The quick brown fox that jumps over the lazy dog / is very agile.\n",
            "The quick brown fox that jumps over the lazy dog / is very agile, and he and his brother / often plays in the fields.\n",
            "The car industry's secrets / aren't quite so secret anymore.\n",
            "I have a black pen.\n",
            "The black pen / is mine.\n",
            "Self-interest / isn't a narrowly defined concept just for your immediate utility.\n"
          ]
        }
      ]
    },
    {
      "cell_type": "code",
      "source": [
        "sentence = \"Here's Vladimir Tsastsin, from Tartu in Estonia.\"\n",
        "print(split_sentence_rule3(sentence))"
      ],
      "metadata": {
        "colab": {
          "base_uri": "https://localhost:8080/"
        },
        "id": "7dhLA2K2LTAA",
        "outputId": "dbbe97e3-03f1-402d-f9cd-40c29a9dbf94"
      },
      "execution_count": 85,
      "outputs": [
        {
          "output_type": "stream",
          "name": "stdout",
          "text": [
            "Here's Vladimir Tsastsin, from Tartu in Estonia.\n"
          ]
        }
      ]
    },
    {
      "cell_type": "markdown",
      "source": [
        "# ルール4: コンマ(1語ずつの羅列は除く)、セミコロン、ハイフン等の，の前後\n",
        "\n",
        "- (済)(11/17) 1語ずつの羅列を除く、が意外と厄介\n",
        "  - (11/19) subtreeの親子関係を見て決定するように修正済み。語の羅列を「commaの前後が両方とも単語である場合」とした。ただし「冠詞+名詞」「形容詞＋名詞」といった2単語からなるNPも1語扱い\n",
        "  - (11/20) 「形容詞＋名詞」は2単語扱いとするべきとして、2単語かつ「DT+NN(S)」だけ1語扱いにした"
      ],
      "metadata": {
        "id": "7ON9mlrC5stN"
      }
    },
    {
      "cell_type": "markdown",
      "source": [
        "## Code and Examples"
      ],
      "metadata": {
        "id": "_vzgrm6YXU1n"
      }
    },
    {
      "cell_type": "code",
      "source": [
        "def split_sentence_rule4(sentence):\n",
        "    \"\"\"\n",
        "    Split a sentence based on the given rule:\n",
        "    Rule 4: Before or after a comma (except one used for listing in a series of words), a semicolon, a hyphen, or other marks of punctuation\n",
        "    \"\"\"\n",
        "\n",
        "    def is_subject_np(subtree):\n",
        "        \"\"\"\n",
        "        Check if the subtree is a Noun Phrase acting as a subject in the sentence.\n",
        "        \"\"\"\n",
        "        parent = subtree.parent()\n",
        "        if parent and parent.label() == \"S\":\n",
        "            for sibling in parent:\n",
        "                if sibling != subtree and sibling.label() == \"VP\":\n",
        "                    return True\n",
        "        return False\n",
        "\n",
        "    def check_words_listed(tree, i):\n",
        "        \"\"\"\n",
        "        Check if comma is used for a list of series of words.\n",
        "        \"\"\"\n",
        "        prev_comma = tree[i-2]\n",
        "        next_comma = tree[i]\n",
        "        if next_comma.label() == \"CC\":\n",
        "            next_comma = tree[i+1]\n",
        "        if len(prev_comma.leaves()) + len(next_comma.leaves()) >= 5:\n",
        "            return False\n",
        "        elif len(prev_comma.leaves()) + len(next_comma.leaves()) <= 2:\n",
        "            # If the sum of the subtree lengths before and after the comma \\\n",
        "            # is less than 2, it is considered part of a word list\n",
        "            return True\n",
        "        else:\n",
        "            # case of length 3~4; Returns True if both subtrees are \"DT+NN or length 1\"\n",
        "            # breakpoint()\n",
        "            return  (len(prev_comma.leaves()) == 1 or \\\n",
        "                (prev_comma[0].label() == \"DT\" and prev_comma[1].label() in \"NNS\")) and \\\n",
        "                (len(next_comma.leaves()) == 1 or \\\n",
        "                (next_comma[0].label() == \"DT\" and next_comma[1].label() in \"NNS\"))\n",
        "\n",
        "    parsed_tree_string, token_space_mapping = parse_tree(sentence)\n",
        "    parsed_tree = Tree.fromstring(parsed_tree_string)\n",
        "    parsed_tree = replace_special_tags_in_tree(parsed_tree)\n",
        "\n",
        "    def traverse_tree(tree):\n",
        "        splits = []\n",
        "        for i, subtree in enumerate(tree):\n",
        "            if type(subtree) == Tree:\n",
        "                if i > 0:\n",
        "                    if tree[i-1].label() == \":\":\n",
        "                        splits.append(\"/ \")\n",
        "                    elif i > 1 and tree[i-1].label() == \",\" \\\n",
        "                        and not check_words_listed(tree, i):\n",
        "                        splits.append(\"/ \")\n",
        "                splits.extend(traverse_tree(subtree))\n",
        "            else:\n",
        "                token_text = token_space_mapping.get(subtree).pop(0)\n",
        "                splits.append(token_text)\n",
        "        if type(subtree) == Tree and subtree.label() in [\":\", \",\"]:\n",
        "            # Case where the rightmost child is a symbol\n",
        "            splits.append(\"/ \")\n",
        "        return splits\n",
        "\n",
        "    # Enhance the tree with parent pointers.\n",
        "    for subtree in parsed_tree.subtrees():\n",
        "        for child in subtree:\n",
        "            if type(child) == Tree:\n",
        "                child.set_label(child.label())\n",
        "                child.parent = lambda s=subtree: s\n",
        "\n",
        "    return format_chunked_list(traverse_tree(parsed_tree))"
      ],
      "metadata": {
        "id": "BcTWBQHGCZqh"
      },
      "execution_count": 126,
      "outputs": []
    },
    {
      "cell_type": "code",
      "source": [
        "print(split_sentence_rule4(\"I like apples, oranges, and bananas.\"))\n",
        "print(split_sentence_rule4(\"I like apples, oranges, and sweety bananas.\"))\n",
        "print(split_sentence_rule4(\"I like an apple, an orange, and bananas.\"))\n",
        "print(split_sentence_rule4(\"I like apples, oranges, and -- bananas; actually, I don't like - fruits.\"))\n",
        "print(split_sentence_rule4(\"I like eating apples, bananas, and sweety cherries, and playing the piano.\"))  # 接続詞の入れ子\n",
        "print(split_sentence_rule4(\"I like watching TV, playing guitar, swimming, dancing, and playing piano.\"))\n",
        "print(split_sentence_rule4(\"Well, you got up in the morning, took a shower, washed your hair, ate cereals, fruit, yogurt, whatever - had coffee - tea.\"))\n",
        "print(split_sentence_rule4(\"These frauds cost the shareholders of these companies, and therefore society, on the order of 380 billion dollars per year.\"))  # 副詞が挟まるケースは無視\n",
        "print(split_sentence_rule4(\"Self-interest isn't a narrowly defined concept just for your immediate utility.\"))\n",
        "print(split_sentence_rule4(\"His basic idea was that if everybody behaves in their own self-interests, that's good for everybody in the end.\"))"
      ],
      "metadata": {
        "id": "oDDA7OEb6uIG"
      },
      "execution_count": null,
      "outputs": []
    },
    {
      "cell_type": "markdown",
      "source": [
        "# ルール5: 文頭の前置詞句、副詞句の後\n",
        "\n",
        "* (済)(11/17) 未対応「文頭に前置詞句・副詞句が連続する場合は、それぞれで区切る」\n",
        "* (済)(11/17) 未対応「節を導く接続詞・関係詞の直後に前置詞句・副詞句が続く場合も区切る」。「スラッシュの直後の前置詞句、副詞句の後」ということにして、ルール1の次に適用すれば良いか?\n",
        "  * (11/20) 「長女PP/ADVPの”親”（`parent`）の”姉”（`left_siblings[-1]`）がCCであれば切る」「長女PP/ADVPの”親”がSでその”親”がSBARで主語を修飾していなければ切る」とした\n",
        "  * (11/20) CCに関して「長女PP/ADVPの”姉”（left_siblings[-1]）、または”親”（parent）の”姉”（left_siblings[-1]）がCCであれば切る」とした"
      ],
      "metadata": {
        "id": "ZaNvzKuu50cs"
      }
    },
    {
      "cell_type": "markdown",
      "source": [
        "## Code and Examples"
      ],
      "metadata": {
        "id": "Mx9g2sUpiAZR"
      }
    },
    {
      "cell_type": "code",
      "source": [
        "def split_sentence_rule5(sentence):\n",
        "    \"\"\"\n",
        "    Split a sentence based on the given rule:\n",
        "    Rule 5: After an adverbial phrase or a prepositional phrase that is either at the beginning of a sentence\n",
        "            or right after a subordinating conjunction or relative pronoun.\n",
        "    \"\"\"\n",
        "    def set_left_siblings(tree, left_siblings=[]):\n",
        "        for child in tree:\n",
        "            if type(child) == Tree:\n",
        "                child.left_siblings = list(left_siblings)\n",
        "                left_siblings.append(child)\n",
        "                set_left_siblings(child, left_siblings=[])\n",
        "\n",
        "    def is_subject_np(subtree):\n",
        "        \"\"\"\n",
        "        Check if the subtree is a Noun Phrase acting as a subject in the sentence.\n",
        "        \"\"\"\n",
        "        parent = subtree.parent()\n",
        "        if parent and parent.label() == \"S\":\n",
        "            for sibling in parent:\n",
        "                if sibling != subtree and sibling.label() == \"VP\":\n",
        "                    return True\n",
        "        return False\n",
        "\n",
        "    def is_clause_led_by_conjunction(subtree):\n",
        "        \"\"\"\n",
        "        Check if the subtree is a clause led by a subordinating conjunction.\n",
        "        \"\"\"\n",
        "        if len(subtree.left_siblings) == 0:\n",
        "             return False\n",
        "        return subtree.left_siblings[-1].label() == \"CC\"\n",
        "\n",
        "    def is_clause_led_by_relative_pronoun(subtree):\n",
        "        \"\"\"\n",
        "        Check if the subtree is a clause led by a relative pronoun.\n",
        "        \"\"\"\n",
        "        return subtree.label() == \"SBAR\" and not is_subject_np(subtree.parent())\n",
        "\n",
        "    parsed_tree_string, token_space_mapping = parse_tree(sentence)\n",
        "    parsed_tree = Tree.fromstring(parsed_tree_string)\n",
        "    parsed_tree = replace_special_tags_in_tree(parsed_tree)\n",
        "\n",
        "    def traverse_tree(tree, depth):\n",
        "        splits = []\n",
        "\n",
        "        # is_bos to handle cases where PP or ADVP occur consecutively\n",
        "        # at the beginning of a sentence\n",
        "        is_bos = False\n",
        "        if depth == 0:\n",
        "            is_bos = True\n",
        "        for i, subtree in enumerate(tree):\n",
        "            if type(subtree) == Tree:\n",
        "\n",
        "                splits.extend(traverse_tree(subtree, depth+1))\n",
        "\n",
        "                # case1: at the beginning of a sentence\n",
        "                if is_bos and subtree.label() in [\"PP\", \"ADVP\"]:\n",
        "                    splits.append(\"/ \")\n",
        "                elif subtree.label() == \",\":\n",
        "                    if len(splits) > 1 and splits[-2] == \"/ \":\n",
        "                        splits[-1], splits[-2] = splits[-2], splits[-1]\n",
        "                else:\n",
        "                    is_bos = False\n",
        "\n",
        "                    if subtree.label() in [\"PP\", \"ADVP\"] and \\\n",
        "                        (subtree.left_siblings == [] or is_clause_led_by_conjunction(subtree)):\n",
        "                        # case 2: right after conjunction\n",
        "                        if is_clause_led_by_conjunction(subtree) or is_clause_led_by_conjunction(tree):\n",
        "                            splits.append(\"/ \")\n",
        "                        # case 3: right after relative pronoun\n",
        "                        if tree.label() == \"S\" and hasattr(tree, \"parent\") \\\n",
        "                            and is_clause_led_by_relative_pronoun(tree.parent()):\n",
        "                            splits.append(\"/ \")\n",
        "            else:\n",
        "                token_text = token_space_mapping.get(subtree).pop(0)\n",
        "                splits.append(token_text)\n",
        "        return splits\n",
        "\n",
        "    # Add left siblings of subtrees.\n",
        "    set_left_siblings(parsed_tree)\n",
        "\n",
        "    # Enhance the tree with parent pointers.\n",
        "    for subtree in parsed_tree.subtrees():\n",
        "        for child in subtree:\n",
        "            if type(child) == Tree:\n",
        "                child.set_label(child.label())\n",
        "                child.parent = lambda s=subtree: s\n",
        "\n",
        "    return format_chunked_list(traverse_tree(parsed_tree, depth=0))"
      ],
      "metadata": {
        "id": "54eVSAt0DY5c"
      },
      "execution_count": 148,
      "outputs": []
    },
    {
      "cell_type": "code",
      "source": [
        "print(\"# 文頭\")\n",
        "print(split_sentence_rule5(\"In fact this past weekend we had one of our trucks.\"))  # 文頭のPP # [ok]\n",
        "print(split_sentence_rule5(\"So what does that leave us with?\"))  # 文頭の副詞句 # [ok]\n",
        "print(split_sentence_rule5(\"So in my talk today, I want to share with you some insights.\"))  # 文頭の副詞句 .. 副詞\"RB\"扱いで取れない。このままで良い？\n",
        "print(split_sentence_rule5(\"Before sunrise, the city was eerily quiet.\")) # [ok]\n",
        "print(split_sentence_rule5(\"After the movie, we decided to go for a walk.\")) # [ok]\n",
        "print(split_sentence_rule5(\"Without hesitation, she accepted the challenge.\")) # [ok]\n",
        "print(split_sentence_rule5(\"In case of emergency, break the glass.\")) # [ok]\n",
        "print(split_sentence_rule5(\"In our research, we look at this.\")) # [ok]\n",
        "print(split_sentence_rule5(\"So what does that leave us with?\")) # [ok]\n",
        "print()\n",
        "print(\"# 文頭の連続\")\n",
        "print(split_sentence_rule5(\"In the morning, after eating breakfast, John went to school.\"))  # 文頭のPPの連続 # [ok]\n",
        "print(split_sentence_rule5(\"Behind the house, beyond the old oak tree, there is a hidden garden.\"))   # 文頭のPPの連続 # [ok]\n",
        "print()\n",
        "print(\"# 節を導く接続詞の直後に前置詞句・副詞句が続く\")\n",
        "print(split_sentence_rule5(\"I took part in a business plan contest, and in the interview I was asked about my plan.\"))  # CC → PP # [ok]\n",
        "print(split_sentence_rule5(\"I went to the library, and there I bought a book.\"))  # CC → ADVP # [ok]\n",
        "print(split_sentence_rule5(\"We try to build a reputation, maybe for being honest, because then people trust us more in the future.\")) # CC → ADVP # [ok]\n",
        "print()\n",
        "print(\"# 節を導く関係詞の直後に前置詞句・副詞句が続く\")\n",
        "print(split_sentence_rule5(\"You know that in fact he is interesting.\"))  # 関係詞 → PP # [ok]\n",
        "print(split_sentence_rule5(\"This is the place where, at the break of dawn, the birds start singing.\"))  # 関係詞 → PP  # [ok]\n",
        "print(split_sentence_rule5(\"I know the boy who really like books.\"))  # 関係詞 → ADVP # [ok]\n",
        "print(split_sentence_rule5(\"The book, in which the author discusses various scientific theories, has received critical acclaim.\"))  # これは例が間違っている、切らないでOK\n",
        "print(split_sentence_rule5(\"She visited the town where, during her childhood, she spent many summers.\"))  # [ok]\n",
        "print(split_sentence_rule5(\"He remembers the moment when, under the starry sky, he first realized his love for astronomy.\"))  # [ok]\n",
        "print(split_sentence_rule5(\"This is the place where, at the break of dawn, the birds start singing.\"))  # [ok]\n",
        "print(split_sentence_rule5(\"I still think about the time when, in the middle of the storm, we found shelter in an old cabin.\"))  # [ok]\n",
        "\n",
        "print()\n",
        "print(split_sentence_rule5(\"Self-interest isn't a narrowly defined concept just for your immediate utility.\"))"
      ],
      "metadata": {
        "colab": {
          "base_uri": "https://localhost:8080/"
        },
        "id": "TW39te5Q627O",
        "outputId": "6603fdc2-c7ea-44b7-e744-6c1945b1285a"
      },
      "execution_count": 149,
      "outputs": [
        {
          "output_type": "stream",
          "name": "stdout",
          "text": [
            "# 文頭\n",
            "In fact / this past weekend we had one of our trucks.\n",
            "So / what does that leave us with?\n",
            "So in my talk today, I want to share with you some insights.\n",
            "Before sunrise, / the city was eerily quiet.\n",
            "After the movie, / we decided to go for a walk.\n",
            "Without hesitation, / she accepted the challenge.\n",
            "In case of emergency, / break the glass.\n",
            "In our research, / we look at this.\n",
            "So / what does that leave us with?\n",
            "\n",
            "# 文頭の連続\n",
            "In the morning, / after eating breakfast, / John went to school.\n",
            "Behind the house, / beyond the old oak tree, / there is a hidden garden.\n",
            "\n",
            "# 節を導く接続詞の直後に前置詞句・副詞句が続く\n",
            "I took part in a business plan contest, and in the interview / I was asked about my plan.\n",
            "I went to the library, and there / I bought a book.\n",
            "We try to build a reputation, maybe for being honest, because then / people trust us more in the future.\n",
            "\n",
            "# 節を導く関係詞の直後に前置詞句・副詞句が続く\n",
            "You know that in fact / he is interesting.\n",
            "This is the place where, at the break of dawn, / the birds start singing.\n",
            "I know the boy who really / like books.\n",
            "The book, in which the author discusses various scientific theories, has received critical acclaim.\n",
            "She visited the town where, during her childhood, / she spent many summers.\n",
            "He remembers the moment when, under the starry sky, / he first realized his love for astronomy.\n",
            "This is the place where, at the break of dawn, / the birds start singing.\n",
            "I still think about the time when, in the middle of the storm, / we found shelter in an old cabin.\n",
            "\n",
            "Self-interest isn't a narrowly defined concept just for your immediate utility.\n"
          ]
        }
      ]
    },
    {
      "cell_type": "code",
      "source": [
        "sentence = \"We're moving, we're all moving here, to a world where the forces of nature come closer together to technology, and magic and technology can come closer together.\"\n",
        "print(split_sentence_rule5(sentence))\n",
        "# print(split_sentence_rule5(\"In fact, this past weekend we had one of our trucks.\"))  # 文頭のPP # [ok]\n"
      ],
      "metadata": {
        "colab": {
          "base_uri": "https://localhost:8080/"
        },
        "id": "rDY_m0TidWs9",
        "outputId": "b40e497e-656a-45e4-8a4e-676b995fc148"
      },
      "execution_count": 150,
      "outputs": [
        {
          "output_type": "stream",
          "name": "stdout",
          "text": [
            "We're moving, we're all moving here, to a world where the forces of nature come closer together to technology, and magic and technology can come closer together.\n"
          ]
        }
      ]
    },
    {
      "cell_type": "markdown",
      "source": [
        "# ルール1-5\n",
        "\n",
        "- 適用順序は、「1, 3, 4, 5」 -> 2"
      ],
      "metadata": {
        "id": "WVNirhP8Fv50"
      }
    },
    {
      "cell_type": "markdown",
      "source": [
        "## Code"
      ],
      "metadata": {
        "id": "kOiiGXa9IRAw"
      }
    },
    {
      "cell_type": "code",
      "source": [
        "def merge_chunked_strings(strings):\n",
        "    words = [[] for _ in strings]\n",
        "    slash_positions = [[] for _ in strings]\n",
        "    for i, s in enumerate(strings):\n",
        "        words_with_slash = s.split()\n",
        "        words[i] = []\n",
        "        slash_positions[i] = []\n",
        "        w_pre = \"\"\n",
        "        for w in words_with_slash:\n",
        "            if w != \"/\":\n",
        "                words[i].append(w)\n",
        "            if w_pre != \"/\" and w_pre != \"\":\n",
        "                slash_positions[i].append(w == \"/\")\n",
        "            w_pre = w\n",
        "        slash_positions[i].append(False)\n",
        "\n",
        "    merged = []\n",
        "    slash_positions_merged = [any(elements) for elements in zip(*slash_positions)]\n",
        "    for i in range(len(words[0])):\n",
        "        merged.append(words[0][i])\n",
        "        if slash_positions_merged[i]:\n",
        "            merged.append(\"/\")\n",
        "\n",
        "    return \" \".join(merged)"
      ],
      "metadata": {
        "id": "kq0lPWtwKEBW"
      },
      "execution_count": 130,
      "outputs": []
    },
    {
      "cell_type": "code",
      "source": [
        "def split_sentence_rule2_chunked_input(sentence_with_slash):\n",
        "    \"\"\"\n",
        "    Split a chunked sentence based on the given rule:\n",
        "    Rule 2: Before a to-infinitive, a preposition, or a gerund followed by three or more words\n",
        "    \"\"\"\n",
        "\n",
        "    def word_to_split(word):\n",
        "        # preposition\n",
        "        if word.pos_ == \"ADP\":\n",
        "            return True\n",
        "        # to-infinitive\n",
        "        if word.pos_ == \"PART\" and word.text == \"to\":\n",
        "            return True\n",
        "        # gerund\n",
        "        if word.tag_ == \"VBG\" and \"ing\" in word.text:\n",
        "            return True\n",
        "        return False\n",
        "\n",
        "    # tokenize each word by SpaCy\n",
        "    words_with_slash = sentence_with_slash.split()\n",
        "    words_with_slash_spacy = []\n",
        "    for word in words_with_slash:\n",
        "        doc = nlp(word)\n",
        "        words_with_slash_spacy.extend([token.text for token in doc])\n",
        "\n",
        "    # get slash_positions (e.g. [False, False, True, False, ...])\n",
        "    words = []\n",
        "    slash_positions = []\n",
        "    w_pre = \"\"\n",
        "    for w in words_with_slash_spacy:\n",
        "        if w != \"/\":\n",
        "            words.append(w)\n",
        "        if w_pre != \"/\" and w_pre != \"\":\n",
        "            slash_positions.append(w == \"/\")\n",
        "        w_pre = w\n",
        "    slash_positions.append(False)\n",
        "\n",
        "    doc = nlp(format_chunked_list(sentence_with_slash.replace(\"/ \",\"\")))\n",
        "    words = list(doc)\n",
        "\n",
        "    splits = []\n",
        "    count = 0\n",
        "\n",
        "    for i in range(len(words) -1, -1, -1):\n",
        "        word = words[i]\n",
        "        if slash_positions[i]:\n",
        "            count = 0\n",
        "        if word.text == \".\":\n",
        "            count -= 1\n",
        "        count += 1\n",
        "        if word_to_split(word) and count > 3:\n",
        "            splits.insert(0, word.text_with_ws)\n",
        "            splits.insert(0, \"/ \")\n",
        "            count = 0\n",
        "        else:\n",
        "            splits.insert(0, word.text_with_ws)\n",
        "\n",
        "    return merge_chunked_strings([sentence_with_slash, format_chunked_list(splits)])"
      ],
      "metadata": {
        "id": "RiowC6oXGiHS"
      },
      "execution_count": 19,
      "outputs": []
    },
    {
      "cell_type": "code",
      "source": [
        "def split_sentence_by_five_rules(sentence):\n",
        "\n",
        "    # Rule 1, 3, 4, 5\n",
        "    chunked_strings = [\n",
        "        split_sentence_rule1(sentence),\n",
        "        split_sentence_rule3(sentence),\n",
        "        split_sentence_rule4(sentence),\n",
        "        split_sentence_rule5(sentence),\n",
        "    ]\n",
        "    merged_chunked_strings = merge_chunked_strings(chunked_strings)\n",
        "\n",
        "    # Rule 2\n",
        "    return split_sentence_rule2_chunked_input(merged_chunked_strings)"
      ],
      "metadata": {
        "id": "_rkZUKsplAl5"
      },
      "execution_count": 20,
      "outputs": []
    },
    {
      "cell_type": "markdown",
      "source": [
        "## Examples"
      ],
      "metadata": {
        "id": "R3PW_gIzIZ0z"
      }
    },
    {
      "cell_type": "code",
      "source": [
        "print(split_sentence_rule2_chunked_input(\"Self-interest isn't a narrowly defined concept just for your immediate utility.\"))\n",
        "print(split_sentence_rule2_chunked_input(\"Self-interest / isn't / a narrowly defined concept just for your immediate utility.\"))"
      ],
      "metadata": {
        "id": "kyYh3uJcLdL-"
      },
      "execution_count": null,
      "outputs": []
    },
    {
      "cell_type": "code",
      "source": [
        "sentence = \"The quick brown fox that jumps over the lazy dog is very agile, and he and his brother often plays in the fields.\"\n",
        "print(\"Rule 1:              \", split_sentence_rule1(sentence))\n",
        "print(\"Rule 3:              \", split_sentence_rule3(sentence))\n",
        "print(\"Rule 4:              \", split_sentence_rule4(sentence))\n",
        "print(\"Rule 5:              \", split_sentence_rule5(sentence))\n",
        "\n",
        "chunked_strings = [\n",
        "    split_sentence_rule1(sentence),\n",
        "    split_sentence_rule3(sentence),\n",
        "    split_sentence_rule4(sentence),\n",
        "    split_sentence_rule5(sentence),\n",
        "]\n",
        "merged_chunked_strings = merge_chunked_strings(chunked_strings)\n",
        "print(\"Rule 1,3,4,5:    \", merged_chunked_strings)\n",
        "\n",
        "print(\"Rule 1,2,3,4,5: \", split_sentence_rule2_chunked_input(merged_chunked_strings))"
      ],
      "metadata": {
        "id": "HpaUosqCaGAR"
      },
      "execution_count": null,
      "outputs": []
    },
    {
      "cell_type": "code",
      "source": [
        "# ale_chunk.txt: L106\n",
        "\n",
        "# I'm a researcher, /4\n",
        "# a scientist /1\n",
        "# working with economists, /4\n",
        "# financial economists, /4\n",
        "# ethicists, neuroscientists, lawyers and others /1\n",
        "# trying to understand /1\n",
        "# what makes humans tick, /4\n",
        "# and how can we address this issue /2\n",
        "# of fraud in corporations /1\n",
        "# and therefore /5\n",
        "# contribute to the improvement of the world\n",
        "\n",
        "sentence = \"I'm a researcher, a scientist working with economists, financial economists, ethicists, neuroscientists, lawyers and others trying to understand what makes humans tick, and how can we address this issue of fraud in corporations and therefore contribute to the improvement of the world.\"\n",
        "\n",
        "print(\"Rule 1:              \", split_sentence_rule1(sentence))\n",
        "print(\"Rule 3:              \", split_sentence_rule3(sentence))\n",
        "print(\"Rule 4:              \", split_sentence_rule4(sentence))\n",
        "print(\"Rule 5:              \", split_sentence_rule5(sentence))\n",
        "\n",
        "chunked_strings = [\n",
        "    split_sentence_rule1(sentence),\n",
        "    split_sentence_rule3(sentence),\n",
        "    split_sentence_rule4(sentence),\n",
        "    split_sentence_rule5(sentence),\n",
        "]\n",
        "merged_chunked_strings = merge_chunked_strings(chunked_strings)\n",
        "print(\"Rule 1,3,4,5:    \", merged_chunked_strings)\n",
        "\n",
        "print(\"Rule 1,2,3,4,5: \", split_sentence_rule2_chunked_input(merged_chunked_strings))"
      ],
      "metadata": {
        "id": "Ui3iuKyWiKyP"
      },
      "execution_count": null,
      "outputs": []
    },
    {
      "cell_type": "code",
      "source": [
        "# ale_chunk.txt: L272\n",
        "# If you believe /1\n",
        "# that people are motivated like that, /4\n",
        "# then /5\n",
        "# all the stuff about incentives, /4\n",
        "# all the stuff /2\n",
        "# about code of conduct and bonus systems and so on, /3&4\n",
        "# doesn't make a whole lot of sense.\n",
        "\n",
        "sentence = \"If you believe that people are motivated like that, then all the stuff about incentives, all the stuff about code of conduct and bonus systems and so on, doesn't make a whole lot of sense.\"\n",
        "\n",
        "print(\"Rule 1:              \", split_sentence_rule1(sentence))\n",
        "print(\"Rule 3:              \", split_sentence_rule3(sentence))\n",
        "print(\"Rule 4:              \", split_sentence_rule4(sentence))\n",
        "print(\"Rule 5:              \", split_sentence_rule5(sentence))\n",
        "\n",
        "chunked_strings = [\n",
        "    split_sentence_rule1(sentence),\n",
        "    split_sentence_rule3(sentence),\n",
        "    split_sentence_rule4(sentence),\n",
        "    split_sentence_rule5(sentence),\n",
        "]\n",
        "merged_chunked_strings = merge_chunked_strings(chunked_strings)\n",
        "print(\"Rule 1,3,4,5:    \", merged_chunked_strings)\n",
        "\n",
        "print(\"Rule 1,2,3,4,5: \", split_sentence_rule2_chunked_input(merged_chunked_strings))"
      ],
      "metadata": {
        "id": "0BChEqppB-jX"
      },
      "execution_count": null,
      "outputs": []
    },
    {
      "cell_type": "markdown",
      "source": [
        "### 全ルールの適用"
      ],
      "metadata": {
        "id": "En0mRAmrnKfa"
      }
    },
    {
      "cell_type": "code",
      "source": [
        "# ale_chunk.txt: L272\n",
        "# If you believe /1\n",
        "# that people are motivated like that, /4\n",
        "# then /5\n",
        "# all the stuff about incentives, /4\n",
        "# all the stuff /2\n",
        "# about code of conduct and bonus systems and so on, /3&4\n",
        "# doesn't make a whole lot of sense.\n",
        "\n",
        "sentence = \"If you believe that people are motivated like that, then all the stuff about incentives, all the stuff about code of conduct and bonus systems and so on, doesn't make a whole lot of sense.\"\n",
        "print(split_sentence_by_five_rules(sentence))"
      ],
      "metadata": {
        "id": "KFW2gOiHnuL0"
      },
      "execution_count": null,
      "outputs": []
    },
    {
      "cell_type": "code",
      "source": [
        "import re\n",
        "sentence = \"We are talking here about, oftentimes, very young individuals with spinal cord injuries, that in the prime of their life  20s, 30s, 40s  hit a wall and the wheelchair's the only option.\"\n",
        "sentence = re.sub(r\"\\s+\", \" \", sentence).rstrip()\n",
        "print(split_sentence_rule1(sentence))\n",
        "print(split_sentence_by_five_rules(sentence))"
      ],
      "metadata": {
        "colab": {
          "base_uri": "https://localhost:8080/"
        },
        "id": "lRk3WCSb4DPL",
        "outputId": "047f5ccc-e95d-4280-b747-f66c935adc39"
      },
      "execution_count": 65,
      "outputs": [
        {
          "name": "stdout",
          "output_type": "stream",
          "text": [
            "We are talking here about, oftentimes, very young individuals with spinal cord injuries, / that in the prime of their life 20s, 30s, 40s hit a wall / and the wheelchair's the only option.\n",
            "> \u001b[0;32m<ipython-input-44-ae46c22d4759>\u001b[0m(3)\u001b[0;36mmerge_chunked_strings\u001b[0;34m()\u001b[0m\n",
            "\u001b[0;32m      1 \u001b[0;31m\u001b[0;32mdef\u001b[0m \u001b[0mmerge_chunked_strings\u001b[0m\u001b[0;34m(\u001b[0m\u001b[0mstrings\u001b[0m\u001b[0;34m)\u001b[0m\u001b[0;34m:\u001b[0m\u001b[0;34m\u001b[0m\u001b[0;34m\u001b[0m\u001b[0m\n",
            "\u001b[0m\u001b[0;32m      2 \u001b[0;31m    \u001b[0mbreakpoint\u001b[0m\u001b[0;34m(\u001b[0m\u001b[0;34m)\u001b[0m\u001b[0;34m\u001b[0m\u001b[0;34m\u001b[0m\u001b[0m\n",
            "\u001b[0m\u001b[0;32m----> 3 \u001b[0;31m    \u001b[0mwords\u001b[0m \u001b[0;34m=\u001b[0m \u001b[0;34m[\u001b[0m\u001b[0;34m[\u001b[0m\u001b[0;34m]\u001b[0m \u001b[0;32mfor\u001b[0m \u001b[0m_\u001b[0m \u001b[0;32min\u001b[0m \u001b[0mstrings\u001b[0m\u001b[0;34m]\u001b[0m\u001b[0;34m\u001b[0m\u001b[0;34m\u001b[0m\u001b[0m\n",
            "\u001b[0m\u001b[0;32m      4 \u001b[0;31m    \u001b[0mslash_positions\u001b[0m \u001b[0;34m=\u001b[0m \u001b[0;34m[\u001b[0m\u001b[0;34m[\u001b[0m\u001b[0;34m]\u001b[0m \u001b[0;32mfor\u001b[0m \u001b[0m_\u001b[0m \u001b[0;32min\u001b[0m \u001b[0mstrings\u001b[0m\u001b[0;34m]\u001b[0m\u001b[0;34m\u001b[0m\u001b[0;34m\u001b[0m\u001b[0m\n",
            "\u001b[0m\u001b[0;32m      5 \u001b[0;31m    \u001b[0;32mfor\u001b[0m \u001b[0mi\u001b[0m\u001b[0;34m,\u001b[0m \u001b[0ms\u001b[0m \u001b[0;32min\u001b[0m \u001b[0menumerate\u001b[0m\u001b[0;34m(\u001b[0m\u001b[0mstrings\u001b[0m\u001b[0;34m)\u001b[0m\u001b[0;34m:\u001b[0m\u001b[0;34m\u001b[0m\u001b[0;34m\u001b[0m\u001b[0m\n",
            "\u001b[0m\n",
            "ipdb> exit()\n"
          ]
        }
      ]
    },
    {
      "cell_type": "code",
      "source": [
        "#sentence = \"Here's Vladimir Tsastsin, from Tartu in Estonia.\"\n",
        "sentence = \"This is [Albert] Gonzalez.\"\n",
        "sentence = \"We're moving, we're all moving here, to a world where the forces of nature come closer together to technology, and magic and technology can come closer together.\"\n",
        "print(split_sentence_by_five_rules(sentence))"
      ],
      "metadata": {
        "colab": {
          "base_uri": "https://localhost:8080/",
          "height": 707
        },
        "id": "g678FOwU7xDA",
        "outputId": "b9855035-45ca-4edb-e6ba-ffc82623e9f1"
      },
      "execution_count": 132,
      "outputs": [
        {
          "output_type": "error",
          "ename": "IndexError",
          "evalue": "ignored",
          "traceback": [
            "\u001b[0;31m---------------------------------------------------------------------------\u001b[0m",
            "\u001b[0;31mIndexError\u001b[0m                                Traceback (most recent call last)",
            "\u001b[0;32m<ipython-input-132-ce5549b23f9d>\u001b[0m in \u001b[0;36m<cell line: 4>\u001b[0;34m()\u001b[0m\n\u001b[1;32m      2\u001b[0m \u001b[0msentence\u001b[0m \u001b[0;34m=\u001b[0m \u001b[0;34m\"This is [Albert] Gonzalez.\"\u001b[0m\u001b[0;34m\u001b[0m\u001b[0;34m\u001b[0m\u001b[0m\n\u001b[1;32m      3\u001b[0m \u001b[0msentence\u001b[0m \u001b[0;34m=\u001b[0m \u001b[0;34m\"We're moving, we're all moving here, to a world where the forces of nature come closer together to technology, and magic and technology can come closer together.\"\u001b[0m\u001b[0;34m\u001b[0m\u001b[0;34m\u001b[0m\u001b[0m\n\u001b[0;32m----> 4\u001b[0;31m \u001b[0mprint\u001b[0m\u001b[0;34m(\u001b[0m\u001b[0msplit_sentence_by_five_rules\u001b[0m\u001b[0;34m(\u001b[0m\u001b[0msentence\u001b[0m\u001b[0;34m)\u001b[0m\u001b[0;34m)\u001b[0m\u001b[0;34m\u001b[0m\u001b[0;34m\u001b[0m\u001b[0m\n\u001b[0m",
            "\u001b[0;32m<ipython-input-20-f62a6ab7a290>\u001b[0m in \u001b[0;36msplit_sentence_by_five_rules\u001b[0;34m(sentence)\u001b[0m\n\u001b[1;32m      6\u001b[0m         \u001b[0msplit_sentence_rule3\u001b[0m\u001b[0;34m(\u001b[0m\u001b[0msentence\u001b[0m\u001b[0;34m)\u001b[0m\u001b[0;34m,\u001b[0m\u001b[0;34m\u001b[0m\u001b[0;34m\u001b[0m\u001b[0m\n\u001b[1;32m      7\u001b[0m         \u001b[0msplit_sentence_rule4\u001b[0m\u001b[0;34m(\u001b[0m\u001b[0msentence\u001b[0m\u001b[0;34m)\u001b[0m\u001b[0;34m,\u001b[0m\u001b[0;34m\u001b[0m\u001b[0;34m\u001b[0m\u001b[0m\n\u001b[0;32m----> 8\u001b[0;31m         \u001b[0msplit_sentence_rule5\u001b[0m\u001b[0;34m(\u001b[0m\u001b[0msentence\u001b[0m\u001b[0;34m)\u001b[0m\u001b[0;34m,\u001b[0m\u001b[0;34m\u001b[0m\u001b[0;34m\u001b[0m\u001b[0m\n\u001b[0m\u001b[1;32m      9\u001b[0m     ]\n\u001b[1;32m     10\u001b[0m     \u001b[0mmerged_chunked_strings\u001b[0m \u001b[0;34m=\u001b[0m \u001b[0mmerge_chunked_strings\u001b[0m\u001b[0;34m(\u001b[0m\u001b[0mchunked_strings\u001b[0m\u001b[0;34m)\u001b[0m\u001b[0;34m\u001b[0m\u001b[0;34m\u001b[0m\u001b[0m\n",
            "\u001b[0;32m<ipython-input-127-5d1ef61af0d7>\u001b[0m in \u001b[0;36msplit_sentence_rule5\u001b[0;34m(sentence)\u001b[0m\n\u001b[1;32m     87\u001b[0m                 \u001b[0mchild\u001b[0m\u001b[0;34m.\u001b[0m\u001b[0mparent\u001b[0m \u001b[0;34m=\u001b[0m \u001b[0;32mlambda\u001b[0m \u001b[0ms\u001b[0m\u001b[0;34m=\u001b[0m\u001b[0msubtree\u001b[0m\u001b[0;34m:\u001b[0m \u001b[0ms\u001b[0m\u001b[0;34m\u001b[0m\u001b[0;34m\u001b[0m\u001b[0m\n\u001b[1;32m     88\u001b[0m \u001b[0;34m\u001b[0m\u001b[0m\n\u001b[0;32m---> 89\u001b[0;31m     \u001b[0;32mreturn\u001b[0m \u001b[0mformat_chunked_list\u001b[0m\u001b[0;34m(\u001b[0m\u001b[0mtraverse_tree\u001b[0m\u001b[0;34m(\u001b[0m\u001b[0mparsed_tree\u001b[0m\u001b[0;34m,\u001b[0m \u001b[0mdepth\u001b[0m\u001b[0;34m=\u001b[0m\u001b[0;36m0\u001b[0m\u001b[0;34m)\u001b[0m\u001b[0;34m)\u001b[0m\u001b[0;34m\u001b[0m\u001b[0;34m\u001b[0m\u001b[0m\n\u001b[0m",
            "\u001b[0;32m<ipython-input-127-5d1ef61af0d7>\u001b[0m in \u001b[0;36mtraverse_tree\u001b[0;34m(tree, depth)\u001b[0m\n\u001b[1;32m     52\u001b[0m             \u001b[0;32mif\u001b[0m \u001b[0mtype\u001b[0m\u001b[0;34m(\u001b[0m\u001b[0msubtree\u001b[0m\u001b[0;34m)\u001b[0m \u001b[0;34m==\u001b[0m \u001b[0mTree\u001b[0m\u001b[0;34m:\u001b[0m\u001b[0;34m\u001b[0m\u001b[0;34m\u001b[0m\u001b[0m\n\u001b[1;32m     53\u001b[0m \u001b[0;34m\u001b[0m\u001b[0m\n\u001b[0;32m---> 54\u001b[0;31m                 \u001b[0msplits\u001b[0m\u001b[0;34m.\u001b[0m\u001b[0mextend\u001b[0m\u001b[0;34m(\u001b[0m\u001b[0mtraverse_tree\u001b[0m\u001b[0;34m(\u001b[0m\u001b[0msubtree\u001b[0m\u001b[0;34m,\u001b[0m \u001b[0mdepth\u001b[0m\u001b[0;34m+\u001b[0m\u001b[0;36m1\u001b[0m\u001b[0;34m)\u001b[0m\u001b[0;34m)\u001b[0m\u001b[0;34m\u001b[0m\u001b[0;34m\u001b[0m\u001b[0m\n\u001b[0m\u001b[1;32m     55\u001b[0m \u001b[0;34m\u001b[0m\u001b[0m\n\u001b[1;32m     56\u001b[0m                 \u001b[0;31m# case1: at the beginning of a sentence\u001b[0m\u001b[0;34m\u001b[0m\u001b[0;34m\u001b[0m\u001b[0m\n",
            "\u001b[0;32m<ipython-input-127-5d1ef61af0d7>\u001b[0m in \u001b[0;36mtraverse_tree\u001b[0;34m(tree, depth)\u001b[0m\n\u001b[1;32m     58\u001b[0m                     \u001b[0msplits\u001b[0m\u001b[0;34m.\u001b[0m\u001b[0mappend\u001b[0m\u001b[0;34m(\u001b[0m\u001b[0;34m\"/ \"\u001b[0m\u001b[0;34m)\u001b[0m\u001b[0;34m\u001b[0m\u001b[0;34m\u001b[0m\u001b[0m\n\u001b[1;32m     59\u001b[0m                 \u001b[0;32melif\u001b[0m \u001b[0msubtree\u001b[0m\u001b[0;34m.\u001b[0m\u001b[0mlabel\u001b[0m\u001b[0;34m(\u001b[0m\u001b[0;34m)\u001b[0m \u001b[0;34m==\u001b[0m \u001b[0;34m\",\"\u001b[0m\u001b[0;34m:\u001b[0m\u001b[0;34m\u001b[0m\u001b[0;34m\u001b[0m\u001b[0m\n\u001b[0;32m---> 60\u001b[0;31m                     \u001b[0;32mif\u001b[0m \u001b[0msplits\u001b[0m\u001b[0;34m[\u001b[0m\u001b[0;34m-\u001b[0m\u001b[0;36m2\u001b[0m\u001b[0;34m]\u001b[0m \u001b[0;34m==\u001b[0m \u001b[0;34m\"/ \"\u001b[0m\u001b[0;34m:\u001b[0m\u001b[0;34m\u001b[0m\u001b[0;34m\u001b[0m\u001b[0m\n\u001b[0m\u001b[1;32m     61\u001b[0m                         \u001b[0msplits\u001b[0m\u001b[0;34m[\u001b[0m\u001b[0;34m-\u001b[0m\u001b[0;36m1\u001b[0m\u001b[0;34m]\u001b[0m\u001b[0;34m,\u001b[0m \u001b[0msplits\u001b[0m\u001b[0;34m[\u001b[0m\u001b[0;34m-\u001b[0m\u001b[0;36m2\u001b[0m\u001b[0;34m]\u001b[0m \u001b[0;34m=\u001b[0m \u001b[0msplits\u001b[0m\u001b[0;34m[\u001b[0m\u001b[0;34m-\u001b[0m\u001b[0;36m2\u001b[0m\u001b[0;34m]\u001b[0m\u001b[0;34m,\u001b[0m \u001b[0msplits\u001b[0m\u001b[0;34m[\u001b[0m\u001b[0;34m-\u001b[0m\u001b[0;36m1\u001b[0m\u001b[0;34m]\u001b[0m\u001b[0;34m\u001b[0m\u001b[0;34m\u001b[0m\u001b[0m\n\u001b[1;32m     62\u001b[0m                 \u001b[0;32melse\u001b[0m\u001b[0;34m:\u001b[0m\u001b[0;34m\u001b[0m\u001b[0;34m\u001b[0m\u001b[0m\n",
            "\u001b[0;31mIndexError\u001b[0m: list index out of range"
          ]
        }
      ]
    },
    {
      "cell_type": "markdown",
      "source": [
        "# オプション： merge_chunks"
      ],
      "metadata": {
        "id": "cEpNOqDmojQ2"
      }
    },
    {
      "cell_type": "markdown",
      "source": [
        "## Code and Examples"
      ],
      "metadata": {
        "id": "-zN8ABiDoxOh"
      }
    },
    {
      "cell_type": "code",
      "source": [
        "def merge_chunks(chunked_sentence, min_chunk):\n",
        "    \"\"\"\n",
        "    Merges chunks of a text that are separated by slashes such that each chunk has at least X words.\n",
        "\n",
        "    :param chunked_sentence: The input text with chunks separated by slashes.\n",
        "    :param min_chunk: The minimum number of words each chunk should have.\n",
        "    :return: The modified text with merged chunks.\n",
        "    \"\"\"\n",
        "    chunks = chunked_sentence.split(\" / \")\n",
        "    merged_chunks = []\n",
        "    current_chunk = []\n",
        "\n",
        "    for chunk in chunks:\n",
        "        current_chunk.append(chunk)\n",
        "        if sum(len(c.split()) for c in current_chunk) < min_chunk:\n",
        "            continue\n",
        "        merged_chunks.append(' '.join(current_chunk))\n",
        "        current_chunk = []\n",
        "\n",
        "    # Add any remaining words as a chunk\n",
        "    if current_chunk:\n",
        "        merged_chunks.append(' '.join(current_chunk))\n",
        "\n",
        "    return \" / \".join(merged_chunks)"
      ],
      "metadata": {
        "id": "eAN3G1onorFd"
      },
      "execution_count": 21,
      "outputs": []
    },
    {
      "cell_type": "code",
      "source": [
        "min_chunk = 2\n",
        "chunked_sentence = \"So / in my talk today, / I / want / to / share / with you some insights / I've obtained.\"\n",
        "print(merge_chunks(chunked_sentence, min_chunk))\n",
        "print(merge_chunks(chunked_sentence, min_chunk+1))"
      ],
      "metadata": {
        "colab": {
          "base_uri": "https://localhost:8080/"
        },
        "id": "rx6hpa94pEKO",
        "outputId": "e0365d26-7745-4f74-ec1b-75c11e0a6eec"
      },
      "execution_count": 40,
      "outputs": [
        {
          "output_type": "stream",
          "name": "stdout",
          "text": [
            "So in my talk today, / I want / to share / with you some insights / I've obtained.\n",
            "So in my talk today, / I want to / share with you some insights / I've obtained.\n"
          ]
        }
      ]
    },
    {
      "cell_type": "markdown",
      "source": [
        "# デモ"
      ],
      "metadata": {
        "id": "FtxvyBROzRiE"
      }
    },
    {
      "cell_type": "markdown",
      "source": [
        "## ルール1: 節を導く接続詞、関係詞(主語を修飾する場合は除く)の前"
      ],
      "metadata": {
        "id": "Hdt0OjhmLY3D"
      }
    },
    {
      "cell_type": "code",
      "source": [
        "print(split_sentence_rule1(\"You interacted with the company that you work for or that you own.\"))\n",
        "print(split_sentence_rule1(\"These frauds cost the shareholders of these companies, and therefore society, on the order of 380 billion dollars per year.\"))\n",
        "print(split_sentence_rule1(\"He knows it's wrong to jump up and risk ruining all this beautiful tableware.\"))\n",
        "print(split_sentence_rule1(\"The game that I developed three years ago is fun.\"))\n",
        "print(split_sentence_rule1(\"I bought the game that I developed three years ago.\"))\n",
        "print(split_sentence_rule1(\"I like Hoge, but I don't like Huga because it isn't tasty.\"))"
      ],
      "metadata": {
        "id": "cctbhqG0LDLf"
      },
      "execution_count": null,
      "outputs": []
    },
    {
      "cell_type": "code",
      "source": [
        "while True:\n",
        "    sentence = input()\n",
        "    print(split_sentence_rule1(sentence))"
      ],
      "metadata": {
        "id": "V7f0dkg8zVAB"
      },
      "execution_count": null,
      "outputs": []
    },
    {
      "cell_type": "markdown",
      "source": [
        "## ルール2: to不定詞、前置詞、動名詞の後に3語以上が続く場合"
      ],
      "metadata": {
        "id": "EfI-fpEgLdcI"
      }
    },
    {
      "cell_type": "code",
      "source": [
        "print(split_sentence_rule2(\"I went to a restaurant to have a fancy dinner.\"))\n",
        "print(split_sentence_rule2(\"I’ve just finished cleaning up my room.\"))\n",
        "print(split_sentence_rule2(\"We hope to improve bilateral relations with your company.\"))\n",
        "print(split_sentence_rule2(\"That's not me who's claiming that, that's the president of the American Finance Association who stated that in his presidential address.\"))\n",
        "print(split_sentence_rule2(\"I am interested in taking a Spanish class.\"))\n",
        "print(split_sentence_rule2(\"I am interested in taking classes.\"))"
      ],
      "metadata": {
        "id": "yHt-sm0JLOu7"
      },
      "execution_count": null,
      "outputs": []
    },
    {
      "cell_type": "code",
      "source": [
        "while True:\n",
        "    sentence = input()\n",
        "    print(split_sentence_rule2(sentence))"
      ],
      "metadata": {
        "id": "hNgjEv0Qzpi5"
      },
      "execution_count": null,
      "outputs": []
    },
    {
      "cell_type": "markdown",
      "source": [
        "## ルール3: 主語が3語以上で長い場合"
      ],
      "metadata": {
        "id": "QXJamT_LLm0u"
      }
    },
    {
      "cell_type": "code",
      "source": [
        "print(split_sentence_rule3(\"The quick brown fox that jumps over the lazy dog is very agile.\"))\n",
        "print(split_sentence_rule3(\"The quick brown fox that jumps over the lazy dog is very agile, and he and his brother often plays in the fields.\"))\n",
        "print(split_sentence_rule3(\"The car industry's secrets aren't quite so secret anymore.\"))\n",
        "print(split_sentence_rule3(\"I have a black pen.\"))\n",
        "print(split_sentence_rule3(\"The black pen is mine.\"))"
      ],
      "metadata": {
        "id": "WFhkUfvOLT-Z"
      },
      "execution_count": null,
      "outputs": []
    },
    {
      "cell_type": "code",
      "source": [
        "while True:\n",
        "    sentence = input()\n",
        "    print(split_sentence_rule3(sentence))"
      ],
      "metadata": {
        "id": "vIJf2AhuzxG2"
      },
      "execution_count": null,
      "outputs": []
    },
    {
      "cell_type": "markdown",
      "source": [
        "## ルール4: コンマ(1語ずつの羅列は除く)、セミコロン、ハイフン等の記号の前後"
      ],
      "metadata": {
        "id": "B38nOFvCLvRd"
      }
    },
    {
      "cell_type": "code",
      "source": [
        "print(split_sentence_rule4(\"Well, you got up in the morning, took a shower, washed your hair, ate cereals, fruit, yogurt, whatever -- had coffee -- tea.\"))\n",
        "print(split_sentence_rule4(\"Well, you got up in the morning, took a shower, washed your hair, ate cereals, fruit, yogurt, whatever - had coffee - tea.\"))\n",
        "print(split_sentence_rule4(\"I like an apple, an orange, and a banana.\"))\n",
        "print(split_sentence_rule4(\"I like apples, oranges, and bananas.\"))"
      ],
      "metadata": {
        "id": "cnb2ti5nLtXK"
      },
      "execution_count": null,
      "outputs": []
    },
    {
      "cell_type": "code",
      "source": [
        "while True:\n",
        "    sentence = input()\n",
        "    print(split_sentence_rule4(sentence))"
      ],
      "metadata": {
        "id": "Gjjdemngz1xL"
      },
      "execution_count": null,
      "outputs": []
    },
    {
      "cell_type": "markdown",
      "source": [
        "## ルール5: 文頭の前置詞句、副詞句の後\n"
      ],
      "metadata": {
        "id": "9jvKiQGoMA17"
      }
    },
    {
      "cell_type": "code",
      "source": [
        "print(split_sentence_rule5(\"In fact this past weekend we had one of our trucks.\"))\n",
        "print(split_sentence_rule5(\"In our research, we look at this.\"))\n",
        "print(split_sentence_rule5(\"So what does that leave us with?\"))\n",
        "print(split_sentence_rule5(\"In other words, it will pay off to put people first.\"))"
      ],
      "metadata": {
        "id": "4f6WWzxQL8C5"
      },
      "execution_count": null,
      "outputs": []
    },
    {
      "cell_type": "code",
      "source": [
        "while True:\n",
        "    sentence = input()\n",
        "    print(split_sentence_rule5(sentence))"
      ],
      "metadata": {
        "id": "TNZ0rFJvy0Bs"
      },
      "execution_count": null,
      "outputs": []
    },
    {
      "cell_type": "markdown",
      "source": [
        "## ルール 1-5"
      ],
      "metadata": {
        "id": "f2r5WD8nplxZ"
      }
    },
    {
      "cell_type": "code",
      "source": [
        "# ale_chunk.txt: L272\n",
        "# If you believe /1\n",
        "# that people are motivated like that, /4\n",
        "# then /5\n",
        "# all the stuff about incentives, /4\n",
        "# all the stuff /2\n",
        "# about code of conduct and bonus systems and so on, /3&4\n",
        "# doesn't make a whole lot of sense.\n",
        "\n",
        "sentence = \"If you believe that people are motivated like that, then all the stuff about incentives, all the stuff about code of conduct and bonus systems and so on, doesn't make a whole lot of sense.\"\n",
        "print(split_sentence_by_five_rules(sentence))"
      ],
      "metadata": {
        "id": "-OQ_EzfJpvRJ"
      },
      "execution_count": null,
      "outputs": []
    },
    {
      "cell_type": "code",
      "source": [
        "while True:\n",
        "    sentence = input()\n",
        "    print(split_sentence_by_five_rules(sentence))"
      ],
      "metadata": {
        "id": "MCcOyuznpxfW"
      },
      "execution_count": null,
      "outputs": []
    },
    {
      "cell_type": "markdown",
      "source": [
        "## オプション: merge_chunks"
      ],
      "metadata": {
        "id": "VhM8ebhmV8y6"
      }
    },
    {
      "cell_type": "code",
      "source": [
        "sentence = \"So in my talk today, I want to share with you some insights I've obtained.\"\n",
        "print(merge_chunks(split_sentence_by_five_rules(sentence), min_chunk=1))\n",
        "print(merge_chunks(split_sentence_by_five_rules(sentence), min_chunk=2))\n",
        "print(merge_chunks(split_sentence_by_five_rules(sentence), min_chunk=3))"
      ],
      "metadata": {
        "id": "szsB-REBWaoK"
      },
      "execution_count": null,
      "outputs": []
    },
    {
      "cell_type": "code",
      "source": [
        "while True:\n",
        "    sentence = input()\n",
        "    print(merge_chunks(split_sentence_by_five_rules(sentence), min_chunk=1))\n",
        "    print(merge_chunks(split_sentence_by_five_rules(sentence), min_chunk=2))\n",
        "    print(merge_chunks(split_sentence_by_five_rules(sentence), min_chunk=3))"
      ],
      "metadata": {
        "id": "wlWf5PB9V78d"
      },
      "execution_count": null,
      "outputs": []
    },
    {
      "cell_type": "markdown",
      "source": [
        "# 評価\n",
        "- Talk: AlexanderWagner_2016X\n",
        "- 入力データ: `ale_sampled.txt`\n",
        "- 人手チャンク化データ： `ale_sampled_chunk.txt`\n",
        "- 結果\n",
        "  - ale_sampled: F1/P/R = 0.721/0.679/0.768\n",
        "  - nic_sampled: F1/P/R = 0.772/0.747/0.798\n",
        "  - lau_sampled: F1/P/R = 0.774/0.737/0.816\n",
        "  - total: F1/P/R = 0.738/0.721/0.755 -> バグあり\n",
        "  - 人間同士 (0.74/0.90/0.63) と比べても悪くない数字？ (Doi+, Table 4)\n",
        "- 結果 (min_chunk={1,2,3}) -> バグあり\n",
        "    - total: F1/P/R = 0.738/0.721/0.755\n",
        "    - total (min=2): F1/P/R = 0.717/0.737/0.697\n",
        "    - total (min=3): F1/P/R = 0.672/0.738/0.617\n",
        "- バグ修正後\n",
        "    - total (min=1): F1/P/R = 0.759/0.725/0.797\n",
        "    - total (min=2): F1/P/R = 0.738/0.741/0.736\n",
        "    - total (min=3): F1/P/R = 0.694/0.742/0.651"
      ],
      "metadata": {
        "id": "4wuWs02JO221"
      }
    },
    {
      "cell_type": "markdown",
      "source": [
        "## Ex: Step-by-Step"
      ],
      "metadata": {
        "id": "p5cz9nRXTe-G"
      }
    },
    {
      "cell_type": "markdown",
      "source": [
        "### 予測"
      ],
      "metadata": {
        "id": "yUsAYgIUPsyn"
      }
    },
    {
      "cell_type": "code",
      "source": [
        "with open('ale_sampled.txt', 'r') as file:\n",
        "    ale_sampled_text = file.readlines()\n",
        "\n",
        "prediction = []\n",
        "for sentence in ale_sampled_text:\n",
        "    prediction.append(split_sentence_by_five_rules(sentence.rstrip()))\n",
        "    print(prediction[-1])\n",
        "\n",
        "# Splitting the prediction sentences into chunks\n",
        "predicted_chunks = []\n",
        "for sentence in prediction:\n",
        "    chunks = sentence.split(' / ')\n",
        "    predicted_chunks.append(chunks)\n",
        "\n",
        "for pred in predicted_chunks[:3]:\n",
        "    print(pred)"
      ],
      "metadata": {
        "colab": {
          "base_uri": "https://localhost:8080/"
        },
        "id": "PIKqQ35vPoUX",
        "outputId": "03f8219d-808c-4c98-eb65-2e67ab93e711"
      },
      "execution_count": 26,
      "outputs": [
        {
          "output_type": "stream",
          "name": "stdout",
          "text": [
            "How many companies / have you interacted with today?\n",
            "I'm pretty sure / there are / at least seven companies / you've interacted with today.\n",
            "We can all think / of some examples, / right?\n",
            "So / in my talk today, / I want to share / with you some insights / I've obtained / and learned / in the last 10 years of / conducting research in this.\n",
            "I'm a researcher, / a scientist / working with economists, / financial economists, / ethicists, neuroscientists, lawyers / and others trying to understand / what makes humans tick, / and / how can we address this issue / of fraud in corporations / and therefore / contribute / to the improvement of the world.\n",
            "Self-interest / isn't a narrowly defined concept just / for your immediate utility.\n",
            "That might be us.\n",
            "So my friend Adam here / might jump up, / get the sausage / and thereby / ruin all this beautiful tableware.\n",
            "And then / if you behave according / to that code of conduct, / that improves your chances of / getting a bonus payment.\n",
            "Similarly, / reputation is a very powerful economic force, / right?\n",
            "Benefits / and costs.\n",
            "He developed this notion / that independent / of the consequences, / some actions are just right / and some are just wrong.\n",
            "Reality is so rich, / there is so much going on, / it's almost impossible to know / what drives people's behavior really.\n",
            "There's a five-franc coin like the one / I'm / holding up right now / in front of you.\n",
            "So / if you say / I had two tails throws, / you get paid 10 francs.\n",
            "If you say, \"I had four tails throws,\" then you get paid 20 francs.\n",
            "First, / how would you behave / in that situation?\n",
            "If I throw the coin four times / and it's a fair coin, / then the probability that it comes up / four times tails / is 6.25 percent.\n",
            "Here's / what happened.\n",
            "You leave 20 francs / on the table by announcing zero.\n",
            "We only observed the distribution.\n",
            "And the consequence is / you feel better / if you earn money in a way / that's consistent with your values.\n",
            "We can measure these protected values, / for example, / by a survey measure.\n",
            "That means / a dollar received / when lying is worth / to them only 75 cents without any incentives / you put in place / for them to behave honestly.\n",
            "I do not yet know / where these protected values / really come from.\n",
            "Is it nurture / or is it nature?\n",
            "What I can tell you is / that the distribution looks pretty similar for men / and women.\n",
            "I'm an economist; / I certainly believe in the fact / that incentives work.\n",
            "In other words, / it will pay off / to put people first.\n",
            "['How many companies', 'have you interacted with today?']\n",
            "[\"I'm pretty sure\", 'there are', 'at least seven companies', \"you've interacted with today.\"]\n",
            "['We can all think', 'of some examples,', 'right?']\n"
          ]
        }
      ]
    },
    {
      "cell_type": "markdown",
      "source": [
        "### F1/P/R"
      ],
      "metadata": {
        "id": "ANYg_y8fPvez"
      }
    },
    {
      "cell_type": "code",
      "source": [
        "reference_chunks = []\n",
        "current_sentence = []\n",
        "\n",
        "with open('ale_sampled_chunk.txt', 'r') as file:\n",
        "    for line in file:\n",
        "        # Strip any trailing characters (like newline or space)\n",
        "        stripped_line = line.strip()\n",
        "\n",
        "        # Check if the line is an empty line, indicating the end of a sentence\n",
        "        if not stripped_line:\n",
        "            if current_sentence:\n",
        "                # Add the current sentence to the formatted chunks\n",
        "                reference_chunks.append(current_sentence)\n",
        "                current_sentence = []  # Reset for the next sentence\n",
        "        else:\n",
        "            # Add only the text part of the chunk, excluding any trailing characters like '/4'\n",
        "            chunk = stripped_line.split(' /')[0]  # Splitting at space followed by '/'\n",
        "            current_sentence.append(chunk)\n",
        "\n",
        "# Add the last sentence if the file doesn't end with an empty line\n",
        "if current_sentence:\n",
        "    reference_chunks.append(current_sentence)\n",
        "\n",
        "for ref in reference_chunks[:3]: # Displaying few examples for verification\n",
        "    print(ref)"
      ],
      "metadata": {
        "colab": {
          "base_uri": "https://localhost:8080/"
        },
        "id": "fp_Jc-nER2by",
        "outputId": "8614e37c-c673-41f9-e400-8915a350be91"
      },
      "execution_count": 24,
      "outputs": [
        {
          "output_type": "stream",
          "name": "stdout",
          "text": [
            "['How many companies have you interacted with today?']\n",
            "[\"I'm pretty sure\", 'there are at least seven companies', \"you've interacted with today.\"]\n",
            "['We can all think of some examples,', 'right?']\n"
          ]
        }
      ]
    },
    {
      "cell_type": "code",
      "source": [
        "def calculate_f1_precision_recall(predicted, correct):\n",
        "    true_positives = 0\n",
        "    false_positives = 0\n",
        "    false_negatives = 0\n",
        "\n",
        "    # Loop through each sentence and its predicted chunks\n",
        "    for pred_chunks, corr_chunks in zip(predicted, correct):\n",
        "\n",
        "        # Create a set of positions where the correct chunks end\n",
        "        correct_positions = set()\n",
        "        position = 0\n",
        "        for chunk in corr_chunks[:-1]:\n",
        "            position += len(chunk.split())  # Count the words in the chunk\n",
        "            correct_positions.add(position)\n",
        "\n",
        "        # Create a set of positions where the predicted chunks end\n",
        "        predicted_positions = set()\n",
        "        position = 0\n",
        "        for chunk in pred_chunks[:-1]:\n",
        "            position += len(chunk.split())  # Count the words in the chunk\n",
        "            predicted_positions.add(position)\n",
        "\n",
        "        # Calculate TP, FP, FN\n",
        "        for pos in predicted_positions:\n",
        "            if pos in correct_positions:\n",
        "                true_positives += 1\n",
        "            else:\n",
        "                false_positives += 1\n",
        "\n",
        "        for pos in correct_positions:\n",
        "            if pos not in predicted_positions:\n",
        "                false_negatives += 1\n",
        "\n",
        "    # Calculating Precision, Recall, and F1 Score\n",
        "    precision = true_positives / (true_positives + false_positives) if true_positives + false_positives > 0 else 0\n",
        "    recall = true_positives / (true_positives + false_negatives) if true_positives + false_negatives > 0 else 0\n",
        "    f1 = 2 * (precision * recall) / (precision + recall) if precision + recall > 0 else 0\n",
        "\n",
        "    return f1, precision, recall\n",
        "\n",
        "# Calculate F1, Precision, and Recall\n",
        "f1_score, precision, recall = calculate_f1_precision_recall(predicted_chunks, reference_chunks)\n",
        "# f1_score, precision, recall = calculate_f1_precision_recall(predicted_chunks, predicted_chunks)\n",
        "print(f\"F1/P/R = {f1_score:.3f}/{precision:.3f}/{recall:.3f}\")"
      ],
      "metadata": {
        "colab": {
          "base_uri": "https://localhost:8080/"
        },
        "id": "AxvUjYcCQmvo",
        "outputId": "339e717e-716c-4ba3-b721-c002066670b3"
      },
      "execution_count": 27,
      "outputs": [
        {
          "output_type": "stream",
          "name": "stdout",
          "text": [
            "F1/P/R = 0.721/0.679/0.768\n"
          ]
        }
      ]
    },
    {
      "cell_type": "markdown",
      "source": [
        "## Code"
      ],
      "metadata": {
        "id": "D48lqKgFQXsi"
      }
    },
    {
      "cell_type": "code",
      "source": [
        "from tqdm import tqdm\n",
        "\n",
        "\n",
        "def calculate_f1_precision_recall(predicted, correct):\n",
        "    true_positives = 0\n",
        "    false_positives = 0\n",
        "    false_negatives = 0\n",
        "\n",
        "    # Loop through each sentence and its predicted chunks\n",
        "    for pred_chunks, corr_chunks in zip(predicted, correct):\n",
        "\n",
        "        # Create a set of positions where the correct chunks end\n",
        "        correct_positions = set()\n",
        "        position = 0\n",
        "        for chunk in corr_chunks[:-1]:\n",
        "            position += len(chunk.split())  # Count the words in the chunk\n",
        "            correct_positions.add(position)\n",
        "\n",
        "        # Create a set of positions where the predicted chunks end\n",
        "        predicted_positions = set()\n",
        "        position = 0\n",
        "        for chunk in pred_chunks[:-1]:\n",
        "            position += len(chunk.split())  # Count the words in the chunk\n",
        "            predicted_positions.add(position)\n",
        "\n",
        "        # Calculate TP, FP, FN\n",
        "        for pos in predicted_positions:\n",
        "            if pos in correct_positions:\n",
        "                true_positives += 1\n",
        "            else:\n",
        "                false_positives += 1\n",
        "\n",
        "        for pos in correct_positions:\n",
        "            if pos not in predicted_positions:\n",
        "                false_negatives += 1\n",
        "\n",
        "    # Calculating Precision, Recall, and F1 Score\n",
        "    precision = true_positives / (true_positives + false_positives) if true_positives + false_positives > 0 else 0\n",
        "    recall = true_positives / (true_positives + false_negatives) if true_positives + false_negatives > 0 else 0\n",
        "    f1 = 2 * (precision * recall) / (precision + recall) if precision + recall > 0 else 0\n",
        "\n",
        "    return f1, precision, recall\n",
        "\n",
        "\n",
        "def exec_chunking_and_evaluation(input_file_list, reference_file_list, print_results=False, min_chunk=1):\n",
        "\n",
        "    # Load sentences from reference files\n",
        "    reference_chunks = []\n",
        "    current_sentence = []\n",
        "    for reference_file in reference_file_list:\n",
        "        with open(reference_file, \"r\") as file:\n",
        "            for line in file:\n",
        "                stripped_line = line.strip()\n",
        "\n",
        "                if not stripped_line:\n",
        "                    if current_sentence:\n",
        "                        # Add the current sentence to the formatted chunks\n",
        "                        reference_chunks.append(current_sentence)\n",
        "                        current_sentence = []\n",
        "                else:\n",
        "                    # Add only the text part of the chunk, excluding any trailing characters like '/4'\n",
        "                    chunk = stripped_line.split(' /')[0]  # Splitting at space followed by '/'\n",
        "                    current_sentence.append(chunk)\n",
        "\n",
        "        if current_sentence:\n",
        "            reference_chunks.append(current_sentence)\n",
        "            current_sentence = []\n",
        "\n",
        "    for ref in reference_chunks[:3]:\n",
        "        print(ref)\n",
        "\n",
        "    # Load sentences from input files\n",
        "    input_sentences = []\n",
        "    for input_file in input_file_list:\n",
        "        with open(input_file, \"r\") as file:\n",
        "            input_sentences.extend(file.readlines())\n",
        "\n",
        "    # Perform chunking\n",
        "    prediction = []\n",
        "    predicted_chunks = []\n",
        "    for sentence in tqdm(input_sentences, disable=print_results):\n",
        "        prediction.append(merge_chunks(split_sentence_by_five_rules(sentence.rstrip()), min_chunk))\n",
        "        if print_results:\n",
        "            print(prediction[-1])\n",
        "    for sentence in prediction:\n",
        "        chunks = sentence.split(\" / \")\n",
        "        predicted_chunks.append(chunks)\n",
        "\n",
        "    for pred in predicted_chunks[:3]:\n",
        "        print(pred)\n",
        "    f1_score, precision, recall = calculate_f1_precision_recall(predicted_chunks, reference_chunks)\n",
        "    print(f\"F1/P/R = {f1_score:.3f}/{precision:.3f}/{recall:.3f}\")"
      ],
      "metadata": {
        "id": "o80pdvHTVjnH"
      },
      "execution_count": 35,
      "outputs": []
    },
    {
      "cell_type": "markdown",
      "source": [
        "## Evaluation"
      ],
      "metadata": {
        "id": "axF-xORCU6qW"
      }
    },
    {
      "cell_type": "code",
      "source": [
        "# AlexanderWagner_2016X (Ale): 29 samples\n",
        "exec_chunking_and_evaluation([\"ale_sampled.txt\"], [\"ale_sampled_chunk.txt\"])"
      ],
      "metadata": {
        "id": "KJ83EzcwYh1C"
      },
      "execution_count": null,
      "outputs": []
    },
    {
      "cell_type": "code",
      "source": [
        "# NickBostrom_2015 (Nic): 27 samples\n",
        "exec_chunking_and_evaluation([\"nic_sampled.txt\"], [\"nic_sampled_chunk.txt\"])"
      ],
      "metadata": {
        "id": "slpP2wN-ZK3N"
      },
      "execution_count": null,
      "outputs": []
    },
    {
      "cell_type": "code",
      "source": [
        "# LaurelBraitman_2014S (Lau): 32 samples\n",
        "exec_chunking_and_evaluation([\"lau_sampled.txt\"], [\"lau_sampled_chunk.txt\"])"
      ],
      "metadata": {
        "id": "4SbxOP7SaZcP"
      },
      "execution_count": null,
      "outputs": []
    },
    {
      "cell_type": "code",
      "source": [
        "# Three talks: 88 samples\n",
        "exec_chunking_and_evaluation(\n",
        "    [\"ale_sampled.txt\", \"nic_sampled.txt\", \"lau_sampled.txt\"],\n",
        "    [\"ale_sampled_chunk.txt\", \"nic_sampled_chunk.txt\", \"lau_sampled_chunk.txt\"],\n",
        "    print_results=True)"
      ],
      "metadata": {
        "colab": {
          "base_uri": "https://localhost:8080/"
        },
        "id": "o_O5IUPIaaRW",
        "outputId": "5f0d3ac6-ef5c-4702-9fc5-f0ede601024e"
      },
      "execution_count": 36,
      "outputs": [
        {
          "output_type": "stream",
          "name": "stdout",
          "text": [
            "['How many companies have you interacted with today?']\n",
            "[\"I'm pretty sure\", 'there are at least seven companies', \"you've interacted with today.\"]\n",
            "['We can all think of some examples,', 'right?']\n",
            "How many companies / have you interacted with today?\n",
            "I'm pretty sure / there are / at least seven companies / you've interacted with today.\n",
            "We can all think / of some examples, / right?\n",
            "So / in my talk today, / I want to share / with you some insights / I've obtained / and learned / in the last 10 years of / conducting research in this.\n",
            "I'm a researcher, / a scientist / working with economists, / financial economists, / ethicists, neuroscientists, lawyers / and others trying to understand / what makes humans tick, / and / how can we address this issue / of fraud in corporations / and therefore / contribute / to the improvement of the world.\n",
            "Self-interest / isn't a narrowly defined concept just / for your immediate utility.\n",
            "That might be us.\n",
            "So my friend Adam here / might jump up, / get the sausage / and thereby / ruin all this beautiful tableware.\n",
            "And then / if you behave according / to that code of conduct, / that improves your chances of / getting a bonus payment.\n",
            "Similarly, / reputation is a very powerful economic force, / right?\n",
            "Benefits / and costs.\n",
            "He developed this notion / that independent / of the consequences, / some actions are just right / and some are just wrong.\n",
            "Reality is so rich, / there is so much going on, / it's almost impossible to know / what drives people's behavior really.\n",
            "There's a five-franc coin like the one / I'm / holding up right now / in front of you.\n",
            "So / if you say / I had two tails throws, / you get paid 10 francs.\n",
            "If you say, \"I had four tails throws,\" then you get paid 20 francs.\n",
            "First, / how would you behave / in that situation?\n",
            "If I throw the coin four times / and it's a fair coin, / then the probability that it comes up / four times tails / is 6.25 percent.\n",
            "Here's / what happened.\n",
            "You leave 20 francs / on the table by announcing zero.\n",
            "We only observed the distribution.\n",
            "And the consequence is / you feel better / if you earn money in a way / that's consistent with your values.\n",
            "We can measure these protected values, / for example, / by a survey measure.\n",
            "That means / a dollar received / when lying is worth / to them only 75 cents without any incentives / you put in place / for them to behave honestly.\n",
            "I do not yet know / where these protected values / really come from.\n",
            "Is it nurture / or is it nature?\n",
            "What I can tell you is / that the distribution looks pretty similar for men / and women.\n",
            "I'm an economist; / I certainly believe in the fact / that incentives work.\n",
            "In other words, / it will pay off / to put people first.\n",
            "This is the normal way / for things to be.\n",
            "It looks like this.\n",
            "It's a curious shape / for a normal condition.\n",
            "And Ed Witten unleashed the second superstring revolution.\n",
            "These invisible differences / cannot be too complicated, / however, / because there have only been 250,000 generations since our last common ancestor.\n",
            "You build / up these expert systems, / and they were kind of useful / for some purposes, / but they were very brittle, / you couldn't scale them.\n",
            "But since then, / a paradigm shift / has taken place / in the field of artificial intelligence.\n",
            "A couple / of years ago, / we did a survey of some / of the world's / leading A.I. experts, / to see / what they think, / and one of the questions / we asked / was, / By which year do you think / there is a 50 percent probability / that we will have achieved human-level machine intelligence?\n",
            "What we do know is / that the ultimate limit to information processing / in a machine substrate / lies far / outside the limits in biological tissue.\n",
            "Neurons propagate slowly in axons, / 100 meters per second, / tops.\n",
            "So / at one end we have the village idiot, / and then far over / at the other side we have Ed Witten, / or Albert Einstein, / or / whoever your favorite guru / is.\n",
            "And then, / after many, many more years / of really hard work, / lots of investment, / maybe eventually we get / to chimpanzee-level artificial intelligence.\n",
            "The train doesn't stop at Humanville Station.\n",
            "It's likely, rather, / to swoosh right by.\n",
            "For example, / chimpanzees are strong -- / pound for pound, / a chimpanzee is about twice as strong / as a fit human male.\n",
            "Machines will then be better at inventing / than we are, / and they'll be / doing so on digital timescales.\n",
            "And this is ironic / because every newspaper article / about the future of A.I. / has a picture of this: / So I think / what we need / to do is to conceive / of the issue more abstractly, / not in terms / of vivid Hollywood scenarios.\n",
            "Human beings in this model / are threats, / we could prevent the mathematical problem from being solved.\n",
            "He touches his daughter, / she turns into gold.\n",
            "This could become practically relevant, / not just / as a metaphor for greed, / but / as an illustration of / what happens / if you create a powerful optimization process / and give it misconceived / or poorly specified goals.\n",
            "B, / why haven't the chimpanzees flicked the off switch to humanity, / or the Neanderthals?\n",
            "The reason is / that we are an intelligent adversary; / we can anticipate threats / and plan around them.\n",
            "Now, / I'm actually fairly optimistic / that this problem can be solved.\n",
            "We would thus leverage its intelligence as much as possible / to solve the problem / of value-loading.\n",
            "And there are also some esoteric issues / that would need / to be solved, / sorted out: / the exact details / of its decision theory, / how / to deal with logical uncertainty / and so forth.\n",
            "Here / is the worry: / Making superintelligent A.I. is a really hard challenge.\n",
            "The risk is / that if somebody figures out / how / to crack the first challenge without also / having cracked the additional challenge / of ensuring perfect safety.\n",
            "He hunted flies / that didn't exist.\n",
            "We love them anyway, / and we stick to it, / and that is / what I did with my dog.\n",
            "So let's talk / about diagnosis for a minute.\n",
            "They may not have words / to explain / what it is / that they're feeling, / and they may not know.\n",
            "It's actually a pretty recent phenomenon / that we feel / that we have / to talk to someone / to understand their emotional distress.\n",
            "You will be shocked by / what you see.\n",
            "This is an example / of shadow-chasing.\n",
            "Here's an example / of a cat named Gizmo. /\n",
            "And / if you just sort of happened upon this scene, / you might think / that Ting Ting is just playing / with a stick, / but Ting Ting does this all day, / and if you pay close attention / and / if I showed you guys the full half-hour / of this clip, / you'd see / that he does the exact same thing / in the exact same order, / and he spins the stick / in the exact same way every time.\n",
            "Other super common behaviors that you may see, / particularly / in captive animals, / are pacing stereotypies / or swaying stereotypies, / and actually, / humans do this too, / and in us, / we'll sway, / we'll move / from side to side.\n",
            "But it's not just stereotypic behaviors / that other animals engage in.\n",
            "She actually has a Harvard psychiatrist, / and she's been treated / for a mood disorder among other things.\n",
            "We also all have very different susceptibilities.\n",
            "So one thing / that people ask me pretty frequently: / Is this just an instance of humans / driving other animals crazy?\n",
            "Or, is animal mental illness just a result of mistreatment / or abuse?\n",
            "And I said, \"Well, why?\n",
            "For many months, / up to I think two years / after that incident, / she was so scared / she couldn't be in the house / when anyone was cleaning.\n",
            "My official opinion / is / that he does not look depressed.\n",
            "So one thing that I would really like people to feel / is / that you really should feel empowered / to make some assumptions about the creatures / that you know well.\n",
            "So / when it comes to your dog / or your cat / or maybe your one-armed monkey / that you happen to know, / if you think / that they are traumatized / or depressed, / you're probably right.\n",
            "This is extremely anthropomorphic, / or the assignation of human characteristics / onto non-human animals / or things.\n",
            "The very popular antipsychotic Thorazine first relaxed rats / before it relaxed people.\n",
            "Today, however, / we are not just / giving these drugs to other animals / as test subjects, / but they're / giving them these drugs as patients, / both in ethical / and much less / ethical ways.\n",
            "SeaWorld gives mother orcas antianxiety medications / when their calves are taken away.\n",
            "But dogs / like my own Oliver / are given antidepressants / and some antianxiety medications / to keep them from / jumping out of buildings / or jumping into traffic.\n",
            "They want to know / how much exercise your dog is getting.\n",
            "They want / to talk to you about / what sorts of therapies, / largely behavior therapies, / you've tried with that animal.\n",
            "I don't know about you; / I get a lot of Internet forwards / of unlikely animal friendships.\n",
            "His name is Lonnie Hodge, / and he's a veteran of Vietnam.\n",
            "But / what's so interesting / to me about Lonnie / and Gander's relationship is about a few months in, / Gander actually developed a fear of heights, / probably because he was / watching Lonnie so closely.\n",
            "What's pretty great about this, / though, / is / that he's still a fantastic service dog, / because now, / when they're both / at a great height, / Lonnie is so concerned / with Gander's well-being / that he forgets to be scared / of the heights himself.\n",
            "Since I've spent so much time / with these stories, / digging into archives, / I literally spent years / doing this research, / and it's changed me.\n",
            "['How many companies', 'have you interacted with today?']\n",
            "[\"I'm pretty sure\", 'there are', 'at least seven companies', \"you've interacted with today.\"]\n",
            "['We can all think', 'of some examples,', 'right?']\n",
            "F1/P/R = 0.759/0.725/0.797\n"
          ]
        }
      ]
    },
    {
      "cell_type": "code",
      "source": [
        "# Three talks: 88 samples (min_chunk=2)\n",
        "exec_chunking_and_evaluation(\n",
        "    [\"ale_sampled.txt\", \"nic_sampled.txt\", \"lau_sampled.txt\"],\n",
        "    [\"ale_sampled_chunk.txt\", \"nic_sampled_chunk.txt\", \"lau_sampled_chunk.txt\"],\n",
        "    print_results=True, min_chunk=2)"
      ],
      "metadata": {
        "colab": {
          "base_uri": "https://localhost:8080/"
        },
        "id": "twF3NPaYpv03",
        "outputId": "e2e3a934-de3d-4954-d456-09c25dbfc3ad"
      },
      "execution_count": 37,
      "outputs": [
        {
          "output_type": "stream",
          "name": "stdout",
          "text": [
            "['How many companies have you interacted with today?']\n",
            "[\"I'm pretty sure\", 'there are at least seven companies', \"you've interacted with today.\"]\n",
            "['We can all think of some examples,', 'right?']\n",
            "How many companies / have you interacted with today?\n",
            "I'm pretty sure / there are / at least seven companies / you've interacted with today.\n",
            "We can all think / of some examples, / right?\n",
            "So in my talk today, / I want to share / with you some insights / I've obtained / and learned / in the last 10 years of / conducting research in this.\n",
            "I'm a researcher, / a scientist / working with economists, / financial economists, / ethicists, neuroscientists, lawyers / and others trying to understand / what makes humans tick, / and how can we address this issue / of fraud in corporations / and therefore / contribute to the improvement of the world.\n",
            "Self-interest isn't a narrowly defined concept just / for your immediate utility.\n",
            "That might be us.\n",
            "So my friend Adam here / might jump up, / get the sausage / and thereby / ruin all this beautiful tableware.\n",
            "And then / if you behave according / to that code of conduct, / that improves your chances of / getting a bonus payment.\n",
            "Similarly, reputation is a very powerful economic force, / right?\n",
            "Benefits and costs.\n",
            "He developed this notion / that independent / of the consequences, / some actions are just right / and some are just wrong.\n",
            "Reality is so rich, / there is so much going on, / it's almost impossible to know / what drives people's behavior really.\n",
            "There's a five-franc coin like the one / I'm holding up right now / in front of you.\n",
            "So if you say / I had two tails throws, / you get paid 10 francs.\n",
            "If you say, \"I had four tails throws,\" then you get paid 20 francs.\n",
            "First, how would you behave / in that situation?\n",
            "If I throw the coin four times / and it's a fair coin, / then the probability that it comes up / four times tails / is 6.25 percent.\n",
            "Here's what happened.\n",
            "You leave 20 francs / on the table by announcing zero.\n",
            "We only observed the distribution.\n",
            "And the consequence is / you feel better / if you earn money in a way / that's consistent with your values.\n",
            "We can measure these protected values, / for example, / by a survey measure.\n",
            "That means / a dollar received / when lying is worth / to them only 75 cents without any incentives / you put in place / for them to behave honestly.\n",
            "I do not yet know / where these protected values / really come from.\n",
            "Is it nurture / or is it nature?\n",
            "What I can tell you is / that the distribution looks pretty similar for men / and women.\n",
            "I'm an economist; / I certainly believe in the fact / that incentives work.\n",
            "In other words, / it will pay off / to put people first.\n",
            "This is the normal way / for things to be.\n",
            "It looks like this.\n",
            "It's a curious shape / for a normal condition.\n",
            "And Ed Witten unleashed the second superstring revolution.\n",
            "These invisible differences / cannot be too complicated, / however, because there have only been 250,000 generations since our last common ancestor.\n",
            "You build / up these expert systems, / and they were kind of useful / for some purposes, / but they were very brittle, / you couldn't scale them.\n",
            "But since then, / a paradigm shift / has taken place / in the field of artificial intelligence.\n",
            "A couple / of years ago, / we did a survey of some / of the world's / leading A.I. experts, / to see / what they think, / and one of the questions / we asked / was, By which year do you think / there is a 50 percent probability / that we will have achieved human-level machine intelligence?\n",
            "What we do know is / that the ultimate limit to information processing / in a machine substrate / lies far / outside the limits in biological tissue.\n",
            "Neurons propagate slowly in axons, / 100 meters per second, / tops.\n",
            "So at one end we have the village idiot, / and then far over / at the other side we have Ed Witten, / or Albert Einstein, / or whoever your favorite guru / is.\n",
            "And then, / after many, many more years / of really hard work, / lots of investment, / maybe eventually we get / to chimpanzee-level artificial intelligence.\n",
            "The train doesn't stop at Humanville Station.\n",
            "It's likely, rather, / to swoosh right by.\n",
            "For example, / chimpanzees are strong -- / pound for pound, / a chimpanzee is about twice as strong / as a fit human male.\n",
            "Machines will then be better at inventing / than we are, / and they'll be / doing so on digital timescales.\n",
            "And this is ironic / because every newspaper article / about the future of A.I. / has a picture of this: / So I think / what we need / to do is to conceive / of the issue more abstractly, / not in terms / of vivid Hollywood scenarios.\n",
            "Human beings in this model / are threats, / we could prevent the mathematical problem from being solved.\n",
            "He touches his daughter, / she turns into gold.\n",
            "This could become practically relevant, / not just / as a metaphor for greed, / but as an illustration of / what happens / if you create a powerful optimization process / and give it misconceived / or poorly specified goals.\n",
            "B, why haven't the chimpanzees flicked the off switch to humanity, / or the Neanderthals?\n",
            "The reason is / that we are an intelligent adversary; / we can anticipate threats / and plan around them.\n",
            "Now, I'm actually fairly optimistic / that this problem can be solved.\n",
            "We would thus leverage its intelligence as much as possible / to solve the problem / of value-loading.\n",
            "And there are also some esoteric issues / that would need / to be solved, / sorted out: / the exact details / of its decision theory, / how to deal with logical uncertainty / and so forth.\n",
            "Here is the worry: / Making superintelligent A.I. is a really hard challenge.\n",
            "The risk is / that if somebody figures out / how to crack the first challenge without also / having cracked the additional challenge / of ensuring perfect safety.\n",
            "He hunted flies / that didn't exist.\n",
            "We love them anyway, / and we stick to it, / and that is / what I did with my dog.\n",
            "So let's talk / about diagnosis for a minute.\n",
            "They may not have words / to explain / what it is / that they're feeling, / and they may not know.\n",
            "It's actually a pretty recent phenomenon / that we feel / that we have / to talk to someone / to understand their emotional distress.\n",
            "You will be shocked by / what you see.\n",
            "This is an example / of shadow-chasing.\n",
            "Here's an example / of a cat named Gizmo. /\n",
            "And if you just sort of happened upon this scene, / you might think / that Ting Ting is just playing / with a stick, / but Ting Ting does this all day, / and if you pay close attention / and if I showed you guys the full half-hour / of this clip, / you'd see / that he does the exact same thing / in the exact same order, / and he spins the stick / in the exact same way every time.\n",
            "Other super common behaviors that you may see, / particularly in captive animals, / are pacing stereotypies / or swaying stereotypies, / and actually, / humans do this too, / and in us, / we'll sway, / we'll move / from side to side.\n",
            "But it's not just stereotypic behaviors / that other animals engage in.\n",
            "She actually has a Harvard psychiatrist, / and she's been treated / for a mood disorder among other things.\n",
            "We also all have very different susceptibilities.\n",
            "So one thing / that people ask me pretty frequently: / Is this just an instance of humans / driving other animals crazy?\n",
            "Or, is animal mental illness just a result of mistreatment / or abuse?\n",
            "And I said, \"Well, why?\n",
            "For many months, / up to I think two years / after that incident, / she was so scared / she couldn't be in the house / when anyone was cleaning.\n",
            "My official opinion / is that he does not look depressed.\n",
            "So one thing that I would really like people to feel / is that you really should feel empowered / to make some assumptions about the creatures / that you know well.\n",
            "So when it comes to your dog / or your cat / or maybe your one-armed monkey / that you happen to know, / if you think / that they are traumatized / or depressed, / you're probably right.\n",
            "This is extremely anthropomorphic, / or the assignation of human characteristics / onto non-human animals / or things.\n",
            "The very popular antipsychotic Thorazine first relaxed rats / before it relaxed people.\n",
            "Today, however, / we are not just / giving these drugs to other animals / as test subjects, / but they're / giving them these drugs as patients, / both in ethical / and much less / ethical ways.\n",
            "SeaWorld gives mother orcas antianxiety medications / when their calves are taken away.\n",
            "But dogs / like my own Oliver / are given antidepressants / and some antianxiety medications / to keep them from / jumping out of buildings / or jumping into traffic.\n",
            "They want to know / how much exercise your dog is getting.\n",
            "They want / to talk to you about / what sorts of therapies, / largely behavior therapies, / you've tried with that animal.\n",
            "I don't know about you; / I get a lot of Internet forwards / of unlikely animal friendships.\n",
            "His name is Lonnie Hodge, / and he's a veteran of Vietnam.\n",
            "But what's so interesting / to me about Lonnie / and Gander's relationship is about a few months in, / Gander actually developed a fear of heights, / probably because he was / watching Lonnie so closely.\n",
            "What's pretty great about this, / though, is / that he's still a fantastic service dog, / because now, / when they're both / at a great height, / Lonnie is so concerned / with Gander's well-being / that he forgets to be scared / of the heights himself.\n",
            "Since I've spent so much time / with these stories, / digging into archives, / I literally spent years / doing this research, / and it's changed me.\n",
            "['How many companies', 'have you interacted with today?']\n",
            "[\"I'm pretty sure\", 'there are', 'at least seven companies', \"you've interacted with today.\"]\n",
            "['We can all think', 'of some examples,', 'right?']\n",
            "F1/P/R = 0.738/0.741/0.736\n"
          ]
        }
      ]
    },
    {
      "cell_type": "code",
      "source": [
        "# Three talks: 88 samples (min_chunk=3)\n",
        "exec_chunking_and_evaluation(\n",
        "    [\"ale_sampled.txt\", \"nic_sampled.txt\", \"lau_sampled.txt\"],\n",
        "    [\"ale_sampled_chunk.txt\", \"nic_sampled_chunk.txt\", \"lau_sampled_chunk.txt\"],\n",
        "    print_results=True, min_chunk=3)"
      ],
      "metadata": {
        "colab": {
          "base_uri": "https://localhost:8080/"
        },
        "id": "XHPtMFoVp-5x",
        "outputId": "74dcfad5-bc9d-4c0d-d727-cc3992790cc5"
      },
      "execution_count": 38,
      "outputs": [
        {
          "output_type": "stream",
          "name": "stdout",
          "text": [
            "['How many companies have you interacted with today?']\n",
            "[\"I'm pretty sure\", 'there are at least seven companies', \"you've interacted with today.\"]\n",
            "['We can all think of some examples,', 'right?']\n",
            "How many companies / have you interacted with today?\n",
            "I'm pretty sure / there are at least seven companies / you've interacted with today.\n",
            "We can all think / of some examples, / right?\n",
            "So in my talk today, / I want to share / with you some insights / I've obtained and learned / in the last 10 years of / conducting research in this.\n",
            "I'm a researcher, / a scientist working with economists, / financial economists, ethicists, neuroscientists, lawyers / and others trying to understand / what makes humans tick, / and how can we address this issue / of fraud in corporations / and therefore contribute / to the improvement of the world.\n",
            "Self-interest isn't a narrowly defined concept just / for your immediate utility.\n",
            "That might be us.\n",
            "So my friend Adam here / might jump up, / get the sausage / and thereby ruin all this beautiful tableware.\n",
            "And then if you behave according / to that code of conduct, / that improves your chances of / getting a bonus payment.\n",
            "Similarly, reputation is a very powerful economic force, / right?\n",
            "Benefits and costs.\n",
            "He developed this notion / that independent of the consequences, / some actions are just right / and some are just wrong.\n",
            "Reality is so rich, / there is so much going on, / it's almost impossible to know / what drives people's behavior really.\n",
            "There's a five-franc coin like the one / I'm holding up right now / in front of you.\n",
            "So if you say / I had two tails throws, / you get paid 10 francs.\n",
            "If you say, \"I had four tails throws,\" then you get paid 20 francs.\n",
            "First, how would you behave / in that situation?\n",
            "If I throw the coin four times / and it's a fair coin, / then the probability that it comes up / four times tails / is 6.25 percent.\n",
            "Here's what happened.\n",
            "You leave 20 francs / on the table by announcing zero.\n",
            "We only observed the distribution.\n",
            "And the consequence is / you feel better / if you earn money in a way / that's consistent with your values.\n",
            "We can measure these protected values, / for example, by a survey measure.\n",
            "That means a dollar received / when lying is worth / to them only 75 cents without any incentives / you put in place / for them to behave honestly.\n",
            "I do not yet know / where these protected values / really come from.\n",
            "Is it nurture / or is it nature?\n",
            "What I can tell you is / that the distribution looks pretty similar for men / and women.\n",
            "I'm an economist; / I certainly believe in the fact / that incentives work.\n",
            "In other words, / it will pay off / to put people first.\n",
            "This is the normal way / for things to be.\n",
            "It looks like this.\n",
            "It's a curious shape / for a normal condition.\n",
            "And Ed Witten unleashed the second superstring revolution.\n",
            "These invisible differences / cannot be too complicated, / however, because there have only been 250,000 generations since our last common ancestor.\n",
            "You build up these expert systems, / and they were kind of useful / for some purposes, / but they were very brittle, / you couldn't scale them.\n",
            "But since then, / a paradigm shift / has taken place / in the field of artificial intelligence.\n",
            "A couple of years ago, / we did a survey of some / of the world's / leading A.I. experts, / to see what they think, / and one of the questions / we asked was, / By which year do you think / there is a 50 percent probability / that we will have achieved human-level machine intelligence?\n",
            "What we do know is / that the ultimate limit to information processing / in a machine substrate / lies far outside the limits in biological tissue.\n",
            "Neurons propagate slowly in axons, / 100 meters per second, / tops.\n",
            "So at one end we have the village idiot, / and then far over / at the other side we have Ed Witten, / or Albert Einstein, / or whoever your favorite guru / is.\n",
            "And then, after many, many more years / of really hard work, / lots of investment, / maybe eventually we get / to chimpanzee-level artificial intelligence.\n",
            "The train doesn't stop at Humanville Station.\n",
            "It's likely, rather, / to swoosh right by.\n",
            "For example, chimpanzees are strong -- / pound for pound, / a chimpanzee is about twice as strong / as a fit human male.\n",
            "Machines will then be better at inventing / than we are, / and they'll be / doing so on digital timescales.\n",
            "And this is ironic / because every newspaper article / about the future of A.I. / has a picture of this: / So I think / what we need / to do is to conceive / of the issue more abstractly, / not in terms / of vivid Hollywood scenarios.\n",
            "Human beings in this model / are threats, we could prevent the mathematical problem from being solved.\n",
            "He touches his daughter, / she turns into gold.\n",
            "This could become practically relevant, / not just as a metaphor for greed, / but as an illustration of / what happens if you create a powerful optimization process / and give it misconceived / or poorly specified goals.\n",
            "B, why haven't the chimpanzees flicked the off switch to humanity, / or the Neanderthals?\n",
            "The reason is / that we are an intelligent adversary; / we can anticipate threats / and plan around them.\n",
            "Now, I'm actually fairly optimistic / that this problem can be solved.\n",
            "We would thus leverage its intelligence as much as possible / to solve the problem / of value-loading.\n",
            "And there are also some esoteric issues / that would need / to be solved, / sorted out: the exact details / of its decision theory, / how to deal with logical uncertainty / and so forth.\n",
            "Here is the worry: / Making superintelligent A.I. is a really hard challenge.\n",
            "The risk is / that if somebody figures out / how to crack the first challenge without also / having cracked the additional challenge / of ensuring perfect safety.\n",
            "He hunted flies / that didn't exist.\n",
            "We love them anyway, / and we stick to it, / and that is / what I did with my dog.\n",
            "So let's talk / about diagnosis for a minute.\n",
            "They may not have words / to explain what it is / that they're feeling, / and they may not know.\n",
            "It's actually a pretty recent phenomenon / that we feel / that we have / to talk to someone / to understand their emotional distress.\n",
            "You will be shocked by / what you see.\n",
            "This is an example / of shadow-chasing.\n",
            "Here's an example / of a cat named Gizmo. /\n",
            "And if you just sort of happened upon this scene, / you might think / that Ting Ting is just playing / with a stick, / but Ting Ting does this all day, / and if you pay close attention / and if I showed you guys the full half-hour / of this clip, / you'd see that he does the exact same thing / in the exact same order, / and he spins the stick / in the exact same way every time.\n",
            "Other super common behaviors that you may see, / particularly in captive animals, / are pacing stereotypies / or swaying stereotypies, / and actually, humans do this too, / and in us, / we'll sway, we'll move / from side to side.\n",
            "But it's not just stereotypic behaviors / that other animals engage in.\n",
            "She actually has a Harvard psychiatrist, / and she's been treated / for a mood disorder among other things.\n",
            "We also all have very different susceptibilities.\n",
            "So one thing / that people ask me pretty frequently: / Is this just an instance of humans / driving other animals crazy?\n",
            "Or, is animal mental illness just a result of mistreatment / or abuse?\n",
            "And I said, \"Well, why?\n",
            "For many months, / up to I think two years / after that incident, / she was so scared / she couldn't be in the house / when anyone was cleaning.\n",
            "My official opinion / is that he does not look depressed.\n",
            "So one thing that I would really like people to feel / is that you really should feel empowered / to make some assumptions about the creatures / that you know well.\n",
            "So when it comes to your dog / or your cat / or maybe your one-armed monkey / that you happen to know, / if you think / that they are traumatized / or depressed, you're probably right.\n",
            "This is extremely anthropomorphic, / or the assignation of human characteristics / onto non-human animals / or things.\n",
            "The very popular antipsychotic Thorazine first relaxed rats / before it relaxed people.\n",
            "Today, however, we are not just / giving these drugs to other animals / as test subjects, / but they're giving them these drugs as patients, / both in ethical / and much less / ethical ways.\n",
            "SeaWorld gives mother orcas antianxiety medications / when their calves are taken away.\n",
            "But dogs like my own Oliver / are given antidepressants / and some antianxiety medications / to keep them from / jumping out of buildings / or jumping into traffic.\n",
            "They want to know / how much exercise your dog is getting.\n",
            "They want to talk to you about / what sorts of therapies, / largely behavior therapies, / you've tried with that animal.\n",
            "I don't know about you; / I get a lot of Internet forwards / of unlikely animal friendships.\n",
            "His name is Lonnie Hodge, / and he's a veteran of Vietnam.\n",
            "But what's so interesting / to me about Lonnie / and Gander's relationship is about a few months in, / Gander actually developed a fear of heights, / probably because he was / watching Lonnie so closely.\n",
            "What's pretty great about this, / though, is that he's still a fantastic service dog, / because now, when they're both / at a great height, / Lonnie is so concerned / with Gander's well-being / that he forgets to be scared / of the heights himself.\n",
            "Since I've spent so much time / with these stories, / digging into archives, / I literally spent years / doing this research, / and it's changed me.\n",
            "['How many companies', 'have you interacted with today?']\n",
            "[\"I'm pretty sure\", 'there are at least seven companies', \"you've interacted with today.\"]\n",
            "['We can all think', 'of some examples,', 'right?']\n",
            "F1/P/R = 0.694/0.742/0.651\n"
          ]
        }
      ]
    }
  ]
}